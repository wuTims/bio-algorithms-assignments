{
 "metadata": {
  "name": "",
  "signature": "sha256:c792e585bf1baac32ea1126b14003cee6c9de608375036236898241a70f921c6"
 },
 "nbformat": 3,
 "nbformat_minor": 0,
 "worksheets": [
  {
   "cells": [
    {
     "cell_type": "markdown",
     "metadata": {},
     "source": [
      "<b> Problem 1 </b>"
     ]
    },
    {
     "cell_type": "code",
     "collapsed": false,
     "input": [
      "cd ~"
     ],
     "language": "python",
     "metadata": {},
     "outputs": [
      {
       "output_type": "stream",
       "stream": "stdout",
       "text": [
        "C:\\Users\\tlwu\n"
       ]
      }
     ],
     "prompt_number": 1
    },
    {
     "cell_type": "code",
     "collapsed": false,
     "input": [
      "cd comp555"
     ],
     "language": "python",
     "metadata": {},
     "outputs": [
      {
       "output_type": "stream",
       "stream": "stdout",
       "text": [
        "C:\\Users\\tlwu\\comp555\n"
       ]
      }
     ],
     "prompt_number": 2
    },
    {
     "cell_type": "code",
     "collapsed": false,
     "input": [
      "import gzip\n",
      "\n",
      "fp = gzip.open(\"HumChr01.fa.gz\")\n",
      "\n",
      "def reverseComplement(s):\n",
      "    reverseComplements = {\"A\":\"T\", \"C\":\"G\", \"G\":\"C\", \"T\":\"A\"}\n",
      "    return ''.join([reverseComplements[base] for base in reversed(s)])\n",
      "\n",
      "palindrome = []\n",
      "for i in xrange(4**3):\n",
      "    trip = \"ACGT\"[i//16] + \"ACGT\"[(i//4)%4] + \"ACGT\"[i%4]\n",
      "    palindrome.append(trip + reverseComplement(trip))"
     ],
     "language": "python",
     "metadata": {},
     "outputs": [],
     "prompt_number": 3
    },
    {
     "cell_type": "code",
     "collapsed": false,
     "input": [
      "print palindrome, \"\\n\"\n",
      "print \"The number of reverse palindromic recognition sites of length 6 is: \", len(palindrome), \"\\n\"\n",
      "print \"The number of possible 6-mers is: \", 4**6, \"\\n\"\n",
      "print \"The fraction of 2N-mers that are reverse palindromic is (4^N/4^(2N)), which equals 1/4^N.\""
     ],
     "language": "python",
     "metadata": {},
     "outputs": [
      {
       "output_type": "stream",
       "stream": "stdout",
       "text": [
        "['AAATTT', 'AACGTT', 'AAGCTT', 'AATATT', 'ACATGT', 'ACCGGT', 'ACGCGT', 'ACTAGT', 'AGATCT', 'AGCGCT', 'AGGCCT', 'AGTACT', 'ATATAT', 'ATCGAT', 'ATGCAT', 'ATTAAT', 'CAATTG', 'CACGTG', 'CAGCTG', 'CATATG', 'CCATGG', 'CCCGGG', 'CCGCGG', 'CCTAGG', 'CGATCG', 'CGCGCG', 'CGGCCG', 'CGTACG', 'CTATAG', 'CTCGAG', 'CTGCAG', 'CTTAAG', 'GAATTC', 'GACGTC', 'GAGCTC', 'GATATC', 'GCATGC', 'GCCGGC', 'GCGCGC', 'GCTAGC', 'GGATCC', 'GGCGCC', 'GGGCCC', 'GGTACC', 'GTATAC', 'GTCGAC', 'GTGCAC', 'GTTAAC', 'TAATTA', 'TACGTA', 'TAGCTA', 'TATATA', 'TCATGA', 'TCCGGA', 'TCGCGA', 'TCTAGA', 'TGATCA', 'TGCGCA', 'TGGCCA', 'TGTACA', 'TTATAA', 'TTCGAA', 'TTGCAA', 'TTTAAA'] \n",
        "\n",
        "The number of reverse palindromic recognition sites of length 6 is:  64 \n",
        "\n",
        "The number of possible 6-mers is:  4096 \n",
        "\n",
        "The fraction of 2N-mers that are reverse palindromic is (4^N/4^(2N)), which equals 1/4^N.\n"
       ]
      }
     ],
     "prompt_number": 11
    },
    {
     "cell_type": "markdown",
     "metadata": {},
     "source": [
      "<b> Problem 2 </b>"
     ]
    },
    {
     "cell_type": "code",
     "collapsed": false,
     "input": [
      "def loadChromosome(filename):\n",
      "    fp = gzip.open(filename, 'rb')\n",
      "    data = fp.read().split('\\n')\n",
      "    header = data.pop(0)\n",
      "    fp.close()\n",
      "    return ''.join(data)"
     ],
     "language": "python",
     "metadata": {},
     "outputs": [],
     "prompt_number": 4
    },
    {
     "cell_type": "code",
     "collapsed": false,
     "input": [
      "seq = loadChromosome(\"HumChr01.fa.gz\")\n"
     ],
     "language": "python",
     "metadata": {},
     "outputs": [],
     "prompt_number": 5
    },
    {
     "cell_type": "code",
     "collapsed": false,
     "input": [
      "reverseSites = {}\n",
      "end = len(seq)\n",
      "\n",
      "for i in xrange(0, end-6):\n",
      "    subseq = seq[i:i+6]\n",
      "    \n",
      "    if \"N\" not in subseq:\n",
      "        if subseq in palindrome:\n",
      "            reverseSites[subseq] = reverseSites.get(subseq, 0) + 1\n",
      "    if ((i % 10000000) == 0):\n",
      "        print i"
     ],
     "language": "python",
     "metadata": {},
     "outputs": [
      {
       "output_type": "stream",
       "stream": "stdout",
       "text": [
        "0\n",
        "10000000"
       ]
      },
      {
       "output_type": "stream",
       "stream": "stdout",
       "text": [
        "\n",
        "20000000"
       ]
      },
      {
       "output_type": "stream",
       "stream": "stdout",
       "text": [
        "\n",
        "30000000"
       ]
      },
      {
       "output_type": "stream",
       "stream": "stdout",
       "text": [
        "\n",
        "40000000"
       ]
      },
      {
       "output_type": "stream",
       "stream": "stdout",
       "text": [
        "\n",
        "50000000"
       ]
      },
      {
       "output_type": "stream",
       "stream": "stdout",
       "text": [
        "\n",
        "60000000"
       ]
      },
      {
       "output_type": "stream",
       "stream": "stdout",
       "text": [
        "\n",
        "70000000"
       ]
      },
      {
       "output_type": "stream",
       "stream": "stdout",
       "text": [
        "\n",
        "80000000"
       ]
      },
      {
       "output_type": "stream",
       "stream": "stdout",
       "text": [
        "\n",
        "90000000"
       ]
      },
      {
       "output_type": "stream",
       "stream": "stdout",
       "text": [
        "\n",
        "100000000"
       ]
      },
      {
       "output_type": "stream",
       "stream": "stdout",
       "text": [
        "\n",
        "110000000"
       ]
      },
      {
       "output_type": "stream",
       "stream": "stdout",
       "text": [
        "\n",
        "120000000"
       ]
      },
      {
       "output_type": "stream",
       "stream": "stdout",
       "text": [
        "\n",
        "130000000"
       ]
      },
      {
       "output_type": "stream",
       "stream": "stdout",
       "text": [
        "\n",
        "140000000"
       ]
      },
      {
       "output_type": "stream",
       "stream": "stdout",
       "text": [
        "\n",
        "150000000"
       ]
      },
      {
       "output_type": "stream",
       "stream": "stdout",
       "text": [
        "\n",
        "160000000"
       ]
      },
      {
       "output_type": "stream",
       "stream": "stdout",
       "text": [
        "\n",
        "170000000"
       ]
      },
      {
       "output_type": "stream",
       "stream": "stdout",
       "text": [
        "\n",
        "180000000"
       ]
      },
      {
       "output_type": "stream",
       "stream": "stdout",
       "text": [
        "\n",
        "190000000"
       ]
      },
      {
       "output_type": "stream",
       "stream": "stdout",
       "text": [
        "\n",
        "200000000"
       ]
      },
      {
       "output_type": "stream",
       "stream": "stdout",
       "text": [
        "\n",
        "210000000"
       ]
      },
      {
       "output_type": "stream",
       "stream": "stdout",
       "text": [
        "\n",
        "220000000"
       ]
      },
      {
       "output_type": "stream",
       "stream": "stdout",
       "text": [
        "\n",
        "230000000"
       ]
      },
      {
       "output_type": "stream",
       "stream": "stdout",
       "text": [
        "\n",
        "240000000"
       ]
      },
      {
       "output_type": "stream",
       "stream": "stdout",
       "text": [
        "\n"
       ]
      }
     ],
     "prompt_number": 81
    },
    {
     "cell_type": "code",
     "collapsed": false,
     "input": [
      "for key in sorted(reverseSites.iterkeys()):\n",
      "    print key, reverseSites[key]\n",
      "    \n",
      "    \n",
      "print \"The pattern that impacts the the frequency of a recognition site's occurence is 'CG'\""
     ],
     "language": "python",
     "metadata": {},
     "outputs": [
      {
       "output_type": "stream",
       "stream": "stdout",
       "text": [
        "AAATTT 192451\n",
        "AACGTT 11841\n",
        "AAGCTT 64394\n",
        "AATATT 170369\n",
        "ACATGT 79458\n",
        "ACCGGT 4216\n",
        "ACGCGT 1631\n",
        "ACTAGT 30370\n",
        "AGATCT 60179\n",
        "AGCGCT 8579\n",
        "AGGCCT 67067\n",
        "AGTACT 42704\n",
        "ATATAT 216353\n",
        "ATCGAT 6480\n",
        "ATGCAT 67397\n",
        "ATTAAT 108291\n",
        "CAATTG 40935\n",
        "CACGTG 20824\n",
        "CAGCTG 89432\n",
        "CATATG 66900\n",
        "CCATGG 59851\n",
        "CCCGGG 31941\n",
        "CCGCGG 5530\n",
        "CCTAGG 48979\n",
        "CGATCG 983\n",
        "CGCGCG 4225\n",
        "CGGCCG 7721\n",
        "CGTACG 840\n",
        "CTATAG 39287\n",
        "CTCGAG 9957\n",
        "CTGCAG 105663\n",
        "CTTAAG 50087\n",
        "GAATTC 60248\n",
        "GACGTC 5317\n",
        "GAGCTC 50049\n",
        "GATATC 32152\n",
        "GCATGC 44129\n",
        "GCCGGC 10538\n",
        "GCGCGC 6238\n",
        "GCTAGC 22346\n",
        "GGATCC 30113\n",
        "GGCGCC 19486\n",
        "GGGCCC 40294\n",
        "GGTACC 22705\n",
        "GTATAC 31467\n",
        "GTCGAC 2342\n",
        "GTGCAC 38168\n",
        "GTTAAC 29507\n",
        "TAATTA 102750\n",
        "TACGTA 9353\n",
        "TAGCTA 46838\n",
        "TATATA 197057\n",
        "TCATGA 74262\n",
        "TCCGGA 7704\n",
        "TCGCGA 1127\n",
        "TCTAGA 61946\n",
        "TGATCA 56893\n",
        "TGCGCA 7005\n",
        "TGGCCA 107911\n",
        "TGTACA 61405\n",
        "TTATAA 120196\n",
        "TTCGAA 8091\n",
        "TTGCAA 68694\n",
        "TTTAAA 252188\n",
        "The pattern that impacts the the frequency of a recognition site's occurence is 'CG'\n"
       ]
      }
     ],
     "prompt_number": 82
    },
    {
     "cell_type": "markdown",
     "metadata": {},
     "source": [
      "<b> Problem 3 </b>"
     ]
    },
    {
     "cell_type": "code",
     "collapsed": false,
     "input": [
      "pattern = \"CGTACG\"\n",
      "startIndex = 0\n",
      "cuts = []\n",
      "\n",
      "while startIndex >= 0:\n",
      "    startIndex = seq.find(pattern,startIndex)\n",
      "    if(startIndex >= 0):\n",
      "        cuts.append(startIndex)\n",
      "        startIndex += 6"
     ],
     "language": "python",
     "metadata": {},
     "outputs": [],
     "prompt_number": 6
    },
    {
     "cell_type": "code",
     "collapsed": false,
     "input": [
      "print len(cuts) #array of indexes of every cut (recognition site)"
     ],
     "language": "python",
     "metadata": {},
     "outputs": [
      {
       "output_type": "stream",
       "stream": "stdout",
       "text": [
        "839\n"
       ]
      }
     ],
     "prompt_number": 7
    },
    {
     "cell_type": "code",
     "collapsed": false,
     "input": [
      "fragLens = []\n",
      "fragLens.append(cuts[0]+5)\n",
      "F\n",
      "for i in xrange(1, len(cuts)-1):\n",
      "    length = (cuts[i]) - cuts[i-1]\n",
      "    fragLens.append(length)\n",
      "    \n",
      "fragLens.append(cuts[len(cuts)-1]-cuts[len(cuts)-2]-5)\n"
     ],
     "language": "python",
     "metadata": {},
     "outputs": [],
     "prompt_number": 8
    },
    {
     "cell_type": "code",
     "collapsed": false,
     "input": [
      "import numpy as np\n",
      "import matplotlib.pyplot as plt"
     ],
     "language": "python",
     "metadata": {},
     "outputs": [],
     "prompt_number": 9
    },
    {
     "cell_type": "code",
     "collapsed": false,
     "input": [
      "plt.hist(fragLens, bins=200)\n",
      "plt.show()"
     ],
     "language": "python",
     "metadata": {},
     "outputs": [],
     "prompt_number": 10
    },
    {
     "cell_type": "markdown",
     "metadata": {},
     "source": [
      "<b> Problem 4 </b>"
     ]
    },
    {
     "cell_type": "code",
     "collapsed": false,
     "input": [
      "from copy import deepcopy\n",
      "\n",
      "class Node: \n",
      "    def __init__(self, staticA, staticB, aVals, bVals, abValsRem, parent, currSumA, currSumB, val, setA, setB):\n",
      "        self.parentNode = parent\n",
      "        self.permA = [item for item in staticA]\n",
      "        self.permB = [item for item in staticB]\n",
      "        self.possA = [item for item in aVals]\n",
      "        self.possB = [item for item in bVals]\n",
      "        self.cSumA = deepcopy(currSumA)\n",
      "        self.cSumB = deepcopy(currSumB)\n",
      "        self.ab = [item for item in abValsRem]\n",
      "        if(val != 0):\n",
      "            if val in self.ab:\n",
      "                self.ab.remove(val)\n",
      "        self.val = deepcopy(val)\n",
      "        \n",
      "        self.usedA = [item for item in setA]\n",
      "        self.usedB = [item for item in setB]\n",
      "        \n",
      "    def percDown(self):\n",
      "        if(self.val == 0):\n",
      "            for num in self.ab:\n",
      "                Node(self.permA, self.permB, self.possA, self.possB, self.ab, self, self.cSumA + num, self.cSumB + num, num, self.usedA, self.usedB)\n",
      "                \n",
      "        currPossA = [item for item in self.possA]\n",
      "        currPossB = [item for item in self.possB]\n",
      "        \n",
      "        for a in currPossA:\n",
      "            print a\n",
      "            print self.cSumA\n",
      "            if(a < self.cSumA):\n",
      "                currPossA.remove(a)\n",
      "            if(a == self.cSumA):\n",
      "                self.usedA.append(a)\n",
      "                s = set(self.usedA)\n",
      "                currPossA = [x for x in self.permA if x not in s]\n",
      "                print currPossA\n",
      "                self.cSumA = 0\n",
      "                \n",
      "        for b in currPossB:\n",
      "            if(b < self.cSumB):\n",
      "                currPossB.remove(b)\n",
      "            if(b == self.cSumB):\n",
      "                self.usedB.append(b)\n",
      "                s = set(self.usedB)\n",
      "                currPossB = [x for x in self.permB if x not in s]\n",
      "                print currPossB\n",
      "                self.cSumB = 0\n",
      "                \n",
      "                \n",
      "        if(len(currPossA) > 1 and len(currPossB) > 1):\n",
      "            for num in self.ab:\n",
      "                Node(self.permA, self.permB, currPossA, currPossB, self.ab, self, self.cSumA + num, self.cSumB + num, num, self.usedA, self.usedB)\n",
      "    \n",
      "        \n",
      "        print self.usedA, \"\\n\", self.usedB\n",
      "    "
     ],
     "language": "python",
     "metadata": {},
     "outputs": [],
     "prompt_number": 11
    },
    {
     "cell_type": "code",
     "collapsed": false,
     "input": [
      "def subsetSums(Afrags, Bfrags, ABfrags):\n",
      "    Anode = {}\n",
      "    Bnode = {}\n",
      "    for comb in xrange(1,2**len(ABfrags)): #every combination in the range 1 to 2^(length of AB fragments) --> map into subset, use bits of number to represent.\n",
      "\n",
      "        subset = [ABfrags[i] for i in xrange(len(ABfrags)) if (comb & (1<<i)) != 0] #take number and convert to list of fragments\n",
      "        #take the value (i & with combination), if == 1\n",
      "        subsum = sum(subset)\n",
      "        if subsum in Afrags:\n",
      "            Anode[subsum] = Anode.get(subsum,[]) + [comb] #change to [comb]\n",
      "        if subsum in Bfrags:\n",
      "            Bnode[subsum] = Bnode.get(subsum,[]) + [comb] #change to [comb]\n",
      "    assert(len(Anode) == len(Afrags))\n",
      "    assert(len(Bnode) == len(Bfrags))\n",
      "    \n",
      "    return Anode, Bnode\n",
      "        "
     ],
     "language": "python",
     "metadata": {},
     "outputs": [],
     "prompt_number": 18
    },
    {
     "cell_type": "code",
     "collapsed": false,
     "input": [
      "a = [40, 50, 60]\n",
      "b = [20, 50, 80]\n",
      "ab = [10, 20, 30, 40, 50]\n",
      "\n",
      "A, B = subsetSums(a,b,ab)\n",
      "\n",
      "print \"Afrag sums = \"\n",
      "for frag in a:\n",
      "    print \"    \", frag, A[frag]\n",
      "    \n",
      "print \"Bfrag sums = \"\n",
      "for frag in b:\n",
      "    print \"    \", frag, B[frag]\n",
      "    "
     ],
     "language": "python",
     "metadata": {},
     "outputs": [
      {
       "output_type": "stream",
       "stream": "stdout",
       "text": [
        "Afrag sums = \n",
        "     40 [5, 8]\n",
        "     50 [6, 9, 16]\n",
        "     60 [7, 10, 17]\n",
        "Bfrag sums = \n",
        "     20 [2]\n",
        "     50 [6, 9, 16]\n",
        "     80 [13, 19, 20]\n"
       ]
      }
     ],
     "prompt_number": 24
    },
    {
     "cell_type": "code",
     "collapsed": false,
     "input": [
      "H, B = subsetSums(hfrags, bfrags, hbfrags)\n",
      "\n",
      "print \"Hfrag sums = \"\n",
      "for frag in hfrags:\n",
      "    print \"      \", frag, H[frag]\n",
      "    \n",
      "print \"Bfrag sums = \"\n",
      "for frag in bfrags:\n",
      "    print \"   \", frag, B[frag]"
     ],
     "language": "python",
     "metadata": {},
     "outputs": [
      {
       "ename": "NameError",
       "evalue": "name 'hfrags' is not defined",
       "output_type": "pyerr",
       "traceback": [
        "\u001b[1;31m---------------------------------------------------------------------------\u001b[0m\n\u001b[1;31mNameError\u001b[0m                                 Traceback (most recent call last)",
        "\u001b[1;32m<ipython-input-20-0ecf6852d061>\u001b[0m in \u001b[0;36m<module>\u001b[1;34m()\u001b[0m\n\u001b[1;32m----> 1\u001b[1;33m \u001b[0mH\u001b[0m\u001b[1;33m,\u001b[0m \u001b[0mB\u001b[0m \u001b[1;33m=\u001b[0m \u001b[0msubsetSums\u001b[0m\u001b[1;33m(\u001b[0m\u001b[0mhfrags\u001b[0m\u001b[1;33m,\u001b[0m \u001b[0mbfrags\u001b[0m\u001b[1;33m,\u001b[0m \u001b[0mhbfrags\u001b[0m\u001b[1;33m)\u001b[0m\u001b[1;33m\u001b[0m\u001b[0m\n\u001b[0m\u001b[0;32m      2\u001b[0m \u001b[1;33m\u001b[0m\u001b[0m\n\u001b[0;32m      3\u001b[0m \u001b[1;32mprint\u001b[0m \u001b[1;34m\"Hfrag sums = \"\u001b[0m\u001b[1;33m\u001b[0m\u001b[0m\n\u001b[0;32m      4\u001b[0m \u001b[1;32mfor\u001b[0m \u001b[0mfrag\u001b[0m \u001b[1;32min\u001b[0m \u001b[0mhfrags\u001b[0m\u001b[1;33m:\u001b[0m\u001b[1;33m\u001b[0m\u001b[0m\n\u001b[0;32m      5\u001b[0m     \u001b[1;32mprint\u001b[0m \u001b[1;34m\"      \"\u001b[0m\u001b[1;33m,\u001b[0m \u001b[0mfrag\u001b[0m\u001b[1;33m,\u001b[0m \u001b[0mH\u001b[0m\u001b[1;33m[\u001b[0m\u001b[0mfrag\u001b[0m\u001b[1;33m]\u001b[0m\u001b[1;33m\u001b[0m\u001b[0m\n",
        "\u001b[1;31mNameError\u001b[0m: name 'hfrags' is not defined"
       ]
      }
     ],
     "prompt_number": 20
    },
    {
     "cell_type": "code",
     "collapsed": false,
     "input": [
      "def countbits(pattern):\n",
      "    n=0\n",
      "    while (pattern >0):\n",
      "        if (pattern &1 ==1):\n",
      "            n+=1\n",
      "        pattern >>= 1\n",
      "    return n\n",
      " \n",
      " \n",
      "def bit(pattern):\n",
      "    n=0\n",
      "    while (pattern &1 ==0):\n",
      "        pattern >>=1\n",
      "        n+=1\n",
      "    return n\n",
      " \n",
      "print bit(4)\n",
      "print countbits(13)\n",
      " \n",
      "Dict ={}\n",
      "Edges=[]\n",
      " \n",
      "def insertIntoDataStruct(name,aKey,bKey,aDict):\n",
      "    if not name in aDict:\n",
      "        aDict[name] = [(aKey,bKey)]\n",
      "    else:\n",
      "        aDict[name].append((aKey,bKey))\n",
      " \n",
      "for aKey in a:\n",
      "    lon = []\n",
      "    for ssA in A[aKey]:   \n",
      "        for bKey in b:      \n",
      "            for ssB in B[bKey]:\n",
      "                if (ssA & ssB != 0):\n",
      "                    #print \"There is an edge between\", aKey, bKey, ab[bit(ssA & ssB)]\n",
      "                    print \"There is an edge between\", aKey, ssA, bKey, ssB, ssA & ssB\n",
      "                    #print \"bit(ssA) \"\n",
      "                    #print ab[bit(ssA & ssB)]\n",
      "                    insertIntoDataStruct(ab[bit(ssA & ssB)],aKey,bKey,Dict)"
     ],
     "language": "python",
     "metadata": {},
     "outputs": [
      {
       "output_type": "stream",
       "stream": "stdout",
       "text": [
        "2\n",
        "3\n",
        "There is an edge between 40 5 50 6 4\n",
        "There is an edge between 40 5 50 9 1\n",
        "There is an edge between 40 5 80 13 5\n",
        "There is an edge between 40 5 80 19 1\n",
        "There is an edge between 40 5 80 20 4\n",
        "There is an edge between 40 8 50 9 8\n",
        "There is an edge between 40 8 80 13 8\n",
        "There is an edge between 50 6 20 2 2\n",
        "There is an edge between 50 6 50 6 6\n",
        "There is an edge between 50 6 80 13 4\n",
        "There is an edge between 50 6 80 19 2\n",
        "There is an edge between 50 6 80 20 4\n",
        "There is an edge between 50 9 50 9 9\n",
        "There is an edge between 50 9 80 13 9\n",
        "There is an edge between 50 9 80 19 1\n",
        "There is an edge between 50 16 50 16 16\n",
        "There is an edge between 50 16 80 19 16\n",
        "There is an edge between 50 16 80 20 16\n",
        "There is an edge between 60 7 20 2 2\n",
        "There is an edge between 60 7 50 6 6\n",
        "There is an edge between 60 7 50 9 1\n",
        "There is an edge between 60 7 80 13 5\n",
        "There is an edge between 60 7 80 19 3\n",
        "There is an edge between 60 7 80 20 4\n",
        "There is an edge between 60 10 20 2 2\n",
        "There is an edge between 60 10 50 6 2\n",
        "There is an edge between 60 10 50 9 8\n",
        "There is an edge between 60 10 80 13 8\n",
        "There is an edge between 60 10 80 19 2\n",
        "There is an edge between 60 17 50 9 1\n",
        "There is an edge between 60 17 50 16 16\n",
        "There is an edge between 60 17 80 13 1\n",
        "There is an edge between 60 17 80 19 17\n",
        "There is an edge between 60 17 80 20 16\n"
       ]
      }
     ],
     "prompt_number": 26
    },
    {
     "cell_type": "code",
     "collapsed": false,
     "input": [],
     "language": "python",
     "metadata": {},
     "outputs": []
    }
   ],
   "metadata": {}
  }
 ]
}