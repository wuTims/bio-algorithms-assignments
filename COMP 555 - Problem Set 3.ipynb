{
 "metadata": {
  "name": "",
  "signature": "sha256:b0b15e7779165688079f9080a0f9a54ea4dff2266e36475bf423773852a0b810"
 },
 "nbformat": 3,
 "nbformat_minor": 0,
 "worksheets": [
  {
   "cells": [
    {
     "cell_type": "code",
     "collapsed": false,
     "input": [
      "h = open('HumChr01.seq', 'rb')\n",
      "hChromo = h.read()\n",
      "chr1 = hChromo[10000:]"
     ],
     "language": "python",
     "metadata": {},
     "outputs": [
      {
       "output_type": "stream",
       "stream": "stdout",
       "text": [
        "\n"
       ]
      }
     ],
     "prompt_number": 51
    },
    {
     "cell_type": "code",
     "collapsed": false,
     "input": [
      "import string\n",
      "import array\n",
      "import sys\n",
      "from numpy import *\n",
      "\n",
      "# The following classes are used to construct \n",
      "# and represent Suffix trees\n",
      "\n",
      "class Edge:\n",
      "    count = 0\n",
      "    def __init__(self, dstNode, first, last):\n",
      "        self.dstNode = dstNode\n",
      "        self.first = first\n",
      "        self.last = last\n",
      "        Edge.count += 1\n",
      "    def split(self, suffix, suffixTree):\n",
      "        # add new explicit node\n",
      "        newIndex = len(suffixTree.nodes)\n",
      "        suffixTree.nodes.append(0)\n",
      "        # add new suffix edge\n",
      "        newFirst = self.first + len(suffix)\n",
      "        suffixTree.edgeLookup[newIndex, suffixTree.string[newFirst]] = Edge(self.dstNode, newFirst, self.last)\n",
      "        # shorten this edge\n",
      "        self.last = newFirst - 1\n",
      "        self.dstNode = newIndex\n",
      "        return newIndex\n",
      "    def isLeafEdge(self, suffixTree):\n",
      "        return (self.last == suffixTree.lastIndex)\n",
      "    def __len__(self):\n",
      "        return self.last - self.first + 1\n",
      "    def __repr__(self):\n",
      "        return \"Edge(%d, %d, %d)\" % (self.dstNode, self.first, self.last)\n",
      "\n",
      "class Suffix:\n",
      "    def __init__(self, srcNode, first, last):\n",
      "        self.srcNode = srcNode\n",
      "        self.first = first\n",
      "        self.last = last\n",
      "    def is_explicit(self):\n",
      "        return self.first > self.last\n",
      "    def is_implicit(self):\n",
      "        return self.first <= self.last\n",
      "    def canonicalize(self, suffixTree):\n",
      "        if self.is_implicit():\n",
      "            edge = suffixTree.edgeLookup[self.srcNode, suffixTree.string[self.first]]\n",
      "            if (len(edge) <= len(self)):\n",
      "                self.first += len(edge)\n",
      "                self.srcNode = edge.dstNode\n",
      "                self.canonicalize(suffixTree)\n",
      "    def __len__(self):\n",
      "        return self.last - self.first + 1\n",
      "    def __repr__(self):\n",
      "        return \"Suffix(%d, %d, %d)\" % (self.srcNode, self.first, self.last)\n",
      "\n",
      "class SuffixTree:\n",
      "    def __init__(self, string):\n",
      "        self.string = string            # save a pointer to the string\n",
      "        self.alphabet = set()           # alphabet of string\n",
      "        self.nodes = array.array('l')   # index of ith node's parent\n",
      "        self.nodes.append(0)            # add root node\n",
      "        self.edgeLookup = {}            # adjacency list indexed by (srcNode, char)\n",
      "        self.lastIndex = len(string) - 1\n",
      "        activePoint = Suffix(0, 0, -1)\n",
      "        for i in xrange(len(string)):\n",
      "            self.alphabet.add(string[i])\n",
      "            self.addPrefix(i, activePoint)\n",
      "    def addPrefix(self, last, activePoint):\n",
      "        LastParentNode = -1\n",
      "        while True:\n",
      "            ParentNode = activePoint.srcNode\n",
      "            if activePoint.is_explicit():\n",
      "                if (activePoint.srcNode, self.string[last]) in self.edgeLookup:\n",
      "                    break\n",
      "            else:               #potentially split an implicit node\n",
      "                edge = self.edgeLookup[activePoint.srcNode, self.string[activePoint.first]]\n",
      "                if (self.string[edge.first + len(activePoint)] == self.string[last]):\n",
      "                    break\n",
      "                else:\n",
      "                    ParentNode = edge.split(activePoint, self)\n",
      "            self.nodes.append(-1)\n",
      "            self.edgeLookup[ParentNode, self.string[last]] = Edge(len(self.nodes)-1, last, self.lastIndex)\n",
      "            # add suffix link\n",
      "            if (LastParentNode > 0):\n",
      "                self.nodes[LastParentNode] = ParentNode\n",
      "            LastParentNode = ParentNode\n",
      "            if (activePoint.srcNode == 0):\n",
      "                activePoint.first += 1\n",
      "            else:\n",
      "                activePoint.srcNode = self.nodes[activePoint.srcNode]\n",
      "            activePoint.canonicalize(self)\n",
      "        if (LastParentNode > 0):\n",
      "            self.nodes[LastParentNode] = ParentNode\n",
      "        activePoint.last += 1\n",
      "        activePoint.canonicalize(self)\n",
      "    def leafIndices(self, nodeIndex=0, lenSoFar=0):\n",
      "        indexList = []\n",
      "        if (self.nodes[nodeIndex] < 0):\n",
      "            indexList.append(self.lastIndex + 1 - lenSoFar)\n",
      "        else:\n",
      "            for char in sorted(self.alphabet):\n",
      "                try:\n",
      "                    edge = self.edgeLookup[nodeIndex, char]\n",
      "                    if edge.isLeafEdge(self):\n",
      "                        indexList.append(self.lastIndex + 1 - len(edge) - lenSoFar)\n",
      "                    else:\n",
      "                        indexList += self.leafIndices(edge.dstNode, lenSoFar + len(edge))\n",
      "                except KeyError:\n",
      "                    continue\n",
      "        return indexList\n",
      "    def distinct(self, nodeIndex=0, lenSoFar=0):\n",
      "        distinctList = []\n",
      "        # examine children of node\n",
      "        for char in self.alphabet:\n",
      "            try:\n",
      "                edge = self.edgeLookup[nodeIndex, char]\n",
      "                if edge.isLeafEdge(self):\n",
      "                    distinctList.append((edge.first-lenSoFar, lenSoFar+1))\n",
      "                else:\n",
      "                    distinctList += self.distinct(edge.dstNode, lenSoFar + len(edge))\n",
      "            except:\n",
      "                continue\n",
      "        return distinctList\n",
      "    def thread(self, target):\n",
      "        nodeIndex = 0           # start from root\n",
      "        i = 0                   # characters threaded so far\n",
      "        while (i < len(target)):\n",
      "            try:\n",
      "                edge = self.edgeLookup[nodeIndex, target[i]]\n",
      "                prefix = self.string[edge.first:edge.last+1]\n",
      "                if (target[i:].startswith(prefix) or prefix.startswith(target[i:])):\n",
      "                    i += len(prefix)\n",
      "                else:\n",
      "                    return []\n",
      "                nodeIndex = edge.dstNode\n",
      "            except KeyError:\n",
      "                return []\n",
      "        return self.leafIndices(nodeIndex, i)\n",
      "    def printTree(self, nodeIndex=0, prefixLength=0, prefix=\"\"):\n",
      "        branches = list()\n",
      "        for c in self.alphabet:\n",
      "            try:\n",
      "                edge = self.edgeLookup[nodeIndex, c]\n",
      "                extent = prefix + \"(%d)-%s-\" % (nodeIndex, self.string[edge.first:edge.last+1])\n",
      "                subtree = self.printTree(edge.dstNode, prefixLength+len(edge), extent)\n",
      "                if (len(subtree) > 0):\n",
      "                    branches.append(subtree)\n",
      "                elif (edge.isLeafEdge(self)):\n",
      "                    print extent + \"(%d)[%d]\" % (edge.dstNode, edge.first-prefixLength)\n",
      "            except KeyError:\n",
      "                pass\n",
      "        return branches"
     ],
     "language": "python",
     "metadata": {},
     "outputs": [
      {
       "output_type": "stream",
       "stream": "stdout",
       "text": [
        "\n"
       ]
      }
     ],
     "prompt_number": 63
    },
    {
     "cell_type": "code",
     "collapsed": false,
     "input": [
      "# a one-line function to compute a Suffix array\n",
      "def argsort(text):\n",
      "    return sorted(range(len(text)), cmp=lambda i,j: -1 if text[i:] < text[j:] else 1)\n",
      "\n",
      "def findFirst(pattern, text, sfa):\n",
      "    #\"\"\" Finds the index of the first occurence of pattern in the suffix array \"\"\"\n",
      "    hi = len(text)\n",
      "    lo = 0\n",
      "    while (lo < hi):\n",
      "        mid = (lo+hi)//2\n",
      "        if (pattern > text[sfa[mid]:]):\n",
      "            lo = mid + 1\n",
      "        else:\n",
      "            hi = mid\n",
      "    return lo\n",
      "\n",
      "def findLast(pattern, text, sfa):\n",
      "    #\"\"\" Finds the index of the last occurence of pattern in the suffix array \"\"\"\n",
      "    hi = len(text)\n",
      "    lo = 0\n",
      "    m = len(pattern)\n",
      "    while (lo < hi):\n",
      "        mid = (lo+hi)//2\n",
      "        i = sfa[mid]\n",
      "        if (pattern >= text[i:i+m]):\n",
      "            lo = mid + 1\n",
      "        else:\n",
      "            hi = mid\n",
      "    return lo"
     ],
     "language": "python",
     "metadata": {},
     "outputs": [
      {
       "output_type": "stream",
       "stream": "stdout",
       "text": [
        "\n"
       ]
      }
     ],
     "prompt_number": 70
    },
    {
     "cell_type": "markdown",
     "metadata": {},
     "source": [
      "<h1> PROBLEM 1 </h1>"
     ]
    },
    {
     "cell_type": "code",
     "collapsed": false,
     "input": [
      "import time\n",
      "import array\n",
      "\n",
      "N=100\n",
      "treeTime = 0.0\n",
      "while N<=100000 and treeTime<100.0:\n",
      "    print \"%10d, \" %N,\n",
      "    text = chr1[10000:10000+N]\n",
      "    start = time.clock()\n",
      "    try:\n",
      "        sTree = SuffixTree(text)\n",
      "    except RuntimeError:\n",
      "        print \"Crashed\"\n",
      "        break\n",
      "    treeTime = time.clock()-start\n",
      "    print \"%8d, %6.3f secs\" % (len(sTree.nodes),treeTime),\n",
      "    start = time.clock()\n",
      "    catsfound = sTree.thread(\"CAT\")\n",
      "    findTime = time.clock() - start\n",
      "    print \"%8d, %6.3f secs\" % (len(catsfound),findTime)\n",
      "    N*=10"
     ],
     "language": "python",
     "metadata": {},
     "outputs": [
      {
       "output_type": "stream",
       "stream": "stdout",
       "text": [
        "       100,  "
       ]
      },
      {
       "output_type": "stream",
       "stream": "stdout",
       "text": [
        "     158,  0.166 secs        0,  0.000 secs\n",
        "      1000,  "
       ]
      },
      {
       "output_type": "stream",
       "stream": "stdout",
       "text": [
        "    1633,  0.051 secs       13,  0.000 secs\n",
        "     10000,  "
       ]
      },
      {
       "output_type": "stream",
       "stream": "stdout",
       "text": [
        "   16391,  0.251 secs      144,  0.002 secs\n",
        "    100000,  "
       ]
      },
      {
       "output_type": "stream",
       "stream": "stdout",
       "text": [
        "  165256,  2.955 secs     1927,  0.022 secs\n"
       ]
      }
     ],
     "prompt_number": 71
    },
    {
     "cell_type": "markdown",
     "metadata": {},
     "source": [
      "<h1> PROBLEM 2 </h1>"
     ]
    },
    {
     "cell_type": "code",
     "collapsed": false,
     "input": [
      "N = 100\n",
      "arrayTime = 0.0\n",
      "\n",
      "while (N <= 100000) and (arrayTime <100.0):\n",
      "    print\"%10d, \" % N,\n",
      "    text = chr1[10000:10000+N]\n",
      "    start = time.clock()\n",
      "    sArray = argsort(text)\n",
      "    arrayTime = time.clock() - start\n",
      "    print \"%8d, %6.3f secs\" % (len(sArray), arrayTime),\n",
      "    start = time.clock()\n",
      "    lo = findFirst(\"CAT\", text, sArray)\n",
      "    hi = findLast(\"CAT\", text, sArray)\n",
      "    findTime = time.clock() - start\n",
      "    print \"%8d, %6.3f secs\" % (hi-lo, findTime)\n",
      "    N *= 10"
     ],
     "language": "python",
     "metadata": {},
     "outputs": [
      {
       "output_type": "stream",
       "stream": "stdout",
       "text": [
        "        100,       100,  0.007 secs        0,  0.000 secs\n",
        "      1000,      1000,  0.016 secs       13,  0.000 secs\n",
        "     10000,  "
       ]
      },
      {
       "output_type": "stream",
       "stream": "stdout",
       "text": [
        "   10000,  0.261 secs      144,  0.000 secs\n",
        "    100000,  "
       ]
      },
      {
       "output_type": "stream",
       "stream": "stdout",
       "text": [
        "  100000, 20.463 secs     1927,  0.000 secs\n"
       ]
      }
     ],
     "prompt_number": 73
    },
    {
     "cell_type": "markdown",
     "metadata": {},
     "source": [
      "<h1> PROBLEM 3 </h1>"
     ]
    },
    {
     "cell_type": "code",
     "collapsed": false,
     "input": [
      "class SuperTree(SuffixTree):\n",
      "    def getSuffixArray(self, nodeIndex=0, prefixLength=0):\n",
      "        if (nodeIndex == 0):\n",
      "            self.suffixArray = []\n",
      "        for c in sorted(self.alphabet):\n",
      "            try:\n",
      "                edge = self.edgeLookup[nodeIndex, c]\n",
      "                if (edge.isLeafEdge(self)):\n",
      "                    self.suffixArray.append(edge.first-prefixLength)\n",
      "                else:\n",
      "                    self.getSuffixArray(edge.dstNode, prefixLength+len(edge))\n",
      "            except KeyError:\n",
      "                pass\n",
      "        return self.suffixArray\n",
      "    \n",
      "    def trick(self):\n",
      "        return self.thread('')"
     ],
     "language": "python",
     "metadata": {},
     "outputs": [],
     "prompt_number": 74
    },
    {
     "cell_type": "code",
     "collapsed": false,
     "input": [
      "test = \"missmississippi$\"\n",
      "suffixTree = SuperTree(test)\n",
      "print len(suffixTree.nodes)\n",
      "print suffixTree.printTree()\n",
      "print\n",
      "print suffixTree.getSuffixArray()\n",
      "print argsort(test)"
     ],
     "language": "python",
     "metadata": {},
     "outputs": [
      {
       "output_type": "stream",
       "stream": "stdout",
       "text": [
        "26\n",
        "(0)-i-(19)-ppi$-(20)[11]\n",
        "(0)-i-(19)-ss-(8)-i-(13)-ppi$-(14)[8]\n",
        "(0)-i-(19)-ss-(8)-i-(13)-ssippi$-(9)[5]\n",
        "(0)-i-(19)-ss-(8)-mississippi$-(2)[1]\n",
        "(0)-i-(19)-$-(24)[14]\n",
        "(0)-p-(22)-i$-(23)[13]\n",
        "(0)-p-(22)-pi$-(21)[12]\n",
        "(0)-s-(4)-i-(17)-ppi$-(18)[10]\n",
        "(0)-s-(4)-i-(17)-ssippi$-(12)[7]\n",
        "(0)-s-(4)-s-(10)-i-(15)-ppi$-(16)[9]\n",
        "(0)-s-(4)-s-(10)-i-(15)-ssippi$-(11)[6]\n",
        "(0)-s-(4)-s-(10)-mississippi$-(3)[2]\n",
        "(0)-s-(4)-mississippi$-(5)[3]\n",
        "(0)-miss-(6)-issippi$-(7)[4]\n",
        "(0)-miss-(6)-mississippi$-(1)[0]\n",
        "(0)-$-(25)[15]\n",
        "[]\n",
        "\n",
        "[15, 14, 11, 8, 5, 1, 4, 0, 13, 12, 10, 7, 3, 9, 6, 2]\n",
        "[15, 14, 11, 8, 5, 1, 4, 0, 13, 12, 10, 7, 3, 9, 6, 2]\n"
       ]
      }
     ],
     "prompt_number": 75
    },
    {
     "cell_type": "code",
     "collapsed": false,
     "input": [
      "import time\n",
      "N = 1000\n",
      "nArray = []\n",
      "timeArray = []\n",
      "timeTree = []\n",
      "arrayTime = 0.0\n",
      "while (arrayTime < 1.0):\n",
      "    print\"%10d, \" % N,\n",
      "    text = chr1[10000:10000+N]\n",
      "    start = time.clock()\n",
      "    sArray = argsort(text)\n",
      "    arrayTime = time.clock() - start\n",
      "    \n",
      "    timeArray.append(arrayTime);\n",
      "    \n",
      "    print \"%6.3f secs\" % (arrayTime),\n",
      "    start = time.clock()\n",
      "    sTree = SuperTree(text)\n",
      "    tArray = sTree.trick();\n",
      "    treeTime = time.clock() - start\n",
      "    \n",
      "    timeTree.append(treeTime);\n",
      "    \n",
      "    nArray.append(N);\n",
      "    \n",
      "    print \"%6.3f secs\" % (treeTime),\n",
      "    print len(tArray), len(sArray)\n",
      "    N += 1000"
     ],
     "language": "python",
     "metadata": {},
     "outputs": [
      {
       "output_type": "stream",
       "stream": "stdout",
       "text": [
        "      1000,   0.011 secs "
       ]
      },
      {
       "output_type": "stream",
       "stream": "stdout",
       "text": [
        " 0.075 secs 990 1000\n",
        "      2000,   0.020 secs "
       ]
      },
      {
       "output_type": "stream",
       "stream": "stdout",
       "text": [
        " 0.072 secs 1993 2000\n",
        "      3000,   0.040 secs "
       ]
      },
      {
       "output_type": "stream",
       "stream": "stdout",
       "text": [
        " 0.093 secs 2992 3000\n",
        "      4000,  "
       ]
      },
      {
       "output_type": "stream",
       "stream": "stdout",
       "text": [
        " 0.058 secs "
       ]
      },
      {
       "output_type": "stream",
       "stream": "stdout",
       "text": [
        " 0.172 secs 3992 4000\n",
        "      5000,  "
       ]
      },
      {
       "output_type": "stream",
       "stream": "stdout",
       "text": [
        " 0.078 secs "
       ]
      },
      {
       "output_type": "stream",
       "stream": "stdout",
       "text": [
        " 0.160 secs 4994 5000\n",
        "      6000,  "
       ]
      },
      {
       "output_type": "stream",
       "stream": "stdout",
       "text": [
        " 0.098 secs "
       ]
      },
      {
       "output_type": "stream",
       "stream": "stdout",
       "text": [
        " 0.187 secs 5994 6000\n",
        "      7000,  "
       ]
      },
      {
       "output_type": "stream",
       "stream": "stdout",
       "text": [
        " 0.128 secs "
       ]
      },
      {
       "output_type": "stream",
       "stream": "stdout",
       "text": [
        " 0.217 secs 6992 7000\n",
        "      8000,  "
       ]
      },
      {
       "output_type": "stream",
       "stream": "stdout",
       "text": [
        " 0.148 secs "
       ]
      },
      {
       "output_type": "stream",
       "stream": "stdout",
       "text": [
        " 0.288 secs 7993 8000\n",
        "      9000,  "
       ]
      },
      {
       "output_type": "stream",
       "stream": "stdout",
       "text": [
        " 0.176 secs "
       ]
      },
      {
       "output_type": "stream",
       "stream": "stdout",
       "text": [
        " 0.280 secs 8994 9000\n",
        "     10000,  "
       ]
      },
      {
       "output_type": "stream",
       "stream": "stdout",
       "text": [
        " 0.214 secs "
       ]
      },
      {
       "output_type": "stream",
       "stream": "stdout",
       "text": [
        " 0.466 secs 9993 10000\n",
        "     11000,  "
       ]
      },
      {
       "output_type": "stream",
       "stream": "stdout",
       "text": [
        " 0.267 secs "
       ]
      },
      {
       "output_type": "stream",
       "stream": "stdout",
       "text": [
        " 0.464 secs 10993 11000\n",
        "     12000,  "
       ]
      },
      {
       "output_type": "stream",
       "stream": "stdout",
       "text": [
        " 0.327 secs "
       ]
      },
      {
       "output_type": "stream",
       "stream": "stdout",
       "text": [
        " 0.436 secs 11993 12000\n",
        "     13000,  "
       ]
      },
      {
       "output_type": "stream",
       "stream": "stdout",
       "text": [
        " 0.435 secs "
       ]
      },
      {
       "output_type": "stream",
       "stream": "stdout",
       "text": [
        " 0.477 secs 12994 13000\n",
        "     14000,  "
       ]
      },
      {
       "output_type": "stream",
       "stream": "stdout",
       "text": [
        " 0.403 secs "
       ]
      },
      {
       "output_type": "stream",
       "stream": "stdout",
       "text": [
        " 0.460 secs 13993 14000\n",
        "     15000,  "
       ]
      },
      {
       "output_type": "stream",
       "stream": "stdout",
       "text": [
        " 0.432 secs "
       ]
      },
      {
       "output_type": "stream",
       "stream": "stdout",
       "text": [
        " 0.510 secs 14993 15000\n",
        "     16000,  "
       ]
      },
      {
       "output_type": "stream",
       "stream": "stdout",
       "text": [
        " 0.487 secs "
       ]
      },
      {
       "output_type": "stream",
       "stream": "stdout",
       "text": [
        " 0.551 secs 15993 16000\n",
        "     17000,  "
       ]
      },
      {
       "output_type": "stream",
       "stream": "stdout",
       "text": [
        " 0.561 secs "
       ]
      },
      {
       "output_type": "stream",
       "stream": "stdout",
       "text": [
        " 0.593 secs 16992 17000\n",
        "     18000,  "
       ]
      },
      {
       "output_type": "stream",
       "stream": "stdout",
       "text": [
        " 0.641 secs "
       ]
      },
      {
       "output_type": "stream",
       "stream": "stdout",
       "text": [
        " 0.617 secs 17991 18000\n",
        "     19000,  "
       ]
      },
      {
       "output_type": "stream",
       "stream": "stdout",
       "text": [
        " 0.693 secs "
       ]
      },
      {
       "output_type": "stream",
       "stream": "stdout",
       "text": [
        " 0.651 secs 18993 19000\n",
        "     20000,  "
       ]
      },
      {
       "output_type": "stream",
       "stream": "stdout",
       "text": [
        " 0.777 secs "
       ]
      },
      {
       "output_type": "stream",
       "stream": "stdout",
       "text": [
        " 0.685 secs 19994 20000\n",
        "     21000,  "
       ]
      },
      {
       "output_type": "stream",
       "stream": "stdout",
       "text": [
        " 0.913 secs "
       ]
      },
      {
       "output_type": "stream",
       "stream": "stdout",
       "text": [
        " 0.782 secs 20994 21000\n",
        "     22000,  "
       ]
      },
      {
       "output_type": "stream",
       "stream": "stdout",
       "text": [
        " 0.954 secs "
       ]
      },
      {
       "output_type": "stream",
       "stream": "stdout",
       "text": [
        " 0.751 secs 21992 22000\n",
        "     23000,  "
       ]
      },
      {
       "output_type": "stream",
       "stream": "stdout",
       "text": [
        " 1.057 secs "
       ]
      },
      {
       "output_type": "stream",
       "stream": "stdout",
       "text": [
        " 0.899 secs 22993 23000\n"
       ]
      }
     ],
     "prompt_number": 84
    },
    {
     "cell_type": "code",
     "collapsed": false,
     "input": [
      "import numpy as np\n",
      "import matplotlib.pyplot as plt"
     ],
     "language": "python",
     "metadata": {},
     "outputs": [],
     "prompt_number": 85
    },
    {
     "cell_type": "code",
     "collapsed": false,
     "input": [
      "%matplotlib inline\n",
      "plt.plot(nArray, timeArray)\n",
      "plt.plot(nArray, timeTree)\n",
      "plt.show()\n",
      "\n",
      "print \"The timing of the algorithms cross at about N = 17500\""
     ],
     "language": "python",
     "metadata": {},
     "outputs": [
      {
       "metadata": {},
       "output_type": "display_data",
       "png": "[encoded data removed]",
       "text": [
        "<matplotlib.figure.Figure at 0x330ef128>"
       ]
      },
      {
       "output_type": "stream",
       "stream": "stdout",
       "text": [
        "The timing of the algorithms cross at about N = 17500\n"
       ]
      }
     ],
     "prompt_number": 90
    },
    {
     "cell_type": "code",
     "collapsed": false,
     "input": [],
     "language": "python",
     "metadata": {},
     "outputs": []
    }
   ],
   "metadata": {}
  }
 ]
}