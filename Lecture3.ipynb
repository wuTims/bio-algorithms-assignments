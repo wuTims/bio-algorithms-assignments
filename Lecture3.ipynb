{
 "metadata": {
  "name": "",
  "signature": "sha256:5aee0e8d37d5c7f6eda88f1458253ed9d6810f9ceba5f37c101cfd8d7d863a18"
 },
 "nbformat": 3,
 "nbformat_minor": 0,
 "worksheets": [
  {
   "cells": [
    {
     "cell_type": "markdown",
     "metadata": {},
     "source": [
      "<br><br><hr><br><br>\n",
      "<h2>Coin Change Problem</h2>\n",
      "<em>Given a list of coin denominations, <strong>c</strong>, and a desired amount of money, <strong>M</strong>, find the fewest number of coins, <strong>n</strong>, necessary to generate <strong>M</strong>.</em>"
     ]
    },
    {
     "cell_type": "code",
     "collapsed": false,
     "input": [
      "def Change(amount, denominations):\n",
      "    n = 0\n",
      "    for coinValue in denominations:\n",
      "        count = amount//coinValue\n",
      "        amount -= count*coinValue\n",
      "        print \"   %d x %d,\" % (count, coinValue),\n",
      "        n += count\n",
      "    print\n",
      "    return n"
     ],
     "language": "python",
     "metadata": {},
     "outputs": [],
     "prompt_number": 63
    },
    {
     "cell_type": "code",
     "collapsed": false,
     "input": [
      "Change(40, [25,10,5,1])"
     ],
     "language": "python",
     "metadata": {},
     "outputs": [
      {
       "output_type": "stream",
       "stream": "stdout",
       "text": [
        "   1 x 25,    1 x 10,    1 x 5,    0 x 1,\n"
       ]
      },
      {
       "metadata": {},
       "output_type": "pyout",
       "prompt_number": 64,
       "text": [
        "3"
       ]
      }
     ],
     "prompt_number": 64
    },
    {
     "cell_type": "code",
     "collapsed": false,
     "input": [
      "Change(40, [25,20,10,5,1])"
     ],
     "language": "python",
     "metadata": {},
     "outputs": [
      {
       "output_type": "stream",
       "stream": "stdout",
       "text": [
        "   1 x 25,    0 x 20,    1 x 10,    1 x 5,    0 x 1,\n"
       ]
      },
      {
       "metadata": {},
       "output_type": "pyout",
       "prompt_number": 65,
       "text": [
        "3"
       ]
      }
     ],
     "prompt_number": 65
    },
    {
     "cell_type": "markdown",
     "metadata": {},
     "source": [
      "<br><br><hr><br><br>\n",
      "<h2>Sorting</h2>\n",
      "<em>Given a list of numbers, N, reorder them into a strictly non-decreasing order.<em>"
     ]
    },
    {
     "cell_type": "code",
     "collapsed": false,
     "input": [
      "def indexOfMin(N,first,last):\n",
      "    \"\"\" finds the smallest element of N between indices first and last \"\"\"\n",
      "    index = first\n",
      "    for k in xrange(index+1,last): \n",
      "        if (N[k] < N[index]): \n",
      "            index = k \n",
      "    return index \n",
      "\n",
      "def selectionSortRecursive(N,first,last): \n",
      "    if (first < last): \n",
      "        index = indexOfMin(N,first,last) \n",
      "        N[first], N[index] = N[index], N[first]\n",
      "        print N[:first+1], N[first+1:]\n",
      "        N = selectionSortRecursive(N,first+1,last)\n",
      "    return N\n",
      "\n",
      "def selectionSort(N):\n",
      "    return selectionSortRecursive(N,0,len(N))"
     ],
     "language": "python",
     "metadata": {},
     "outputs": [],
     "prompt_number": 66
    },
    {
     "cell_type": "code",
     "collapsed": false,
     "input": [
      "selectionSort([27, 12, 3, 18, 11, 7])"
     ],
     "language": "python",
     "metadata": {},
     "outputs": [
      {
       "output_type": "stream",
       "stream": "stdout",
       "text": [
        "[3] [12, 27, 18, 11, 7]\n",
        "[3, 7] [27, 18, 11, 12]\n",
        "[3, 7, 11] [18, 27, 12]\n",
        "[3, 7, 11, 12] [27, 18]\n",
        "[3, 7, 11, 12, 18] [27]\n",
        "[3, 7, 11, 12, 18, 27] []\n"
       ]
      },
      {
       "metadata": {},
       "output_type": "pyout",
       "prompt_number": 11,
       "text": [
        "[3, 7, 11, 12, 18, 27]"
       ]
      }
     ],
     "prompt_number": 11
    },
    {
     "cell_type": "markdown",
     "metadata": {},
     "source": [
      "<br><br><hr><br><br>\n",
      "<h2>The n<sup>th</sup> Fibonacci Number</h2>\n",
      "<em>Produce the n<sup>th</sup> number from the sequence F<sub>n</sub> = F<sub>n-1</sub> + F<sub>n-2</sub> where F<sub>1</sub> = F<sub>2</sub> = 1."
     ]
    },
    {
     "cell_type": "code",
     "collapsed": false,
     "input": [
      "import math\n",
      "\n",
      "def fibonacciDirect(n):\n",
      "    sqrt5 = math.sqrt(5.0)\n",
      "    return (((1.0 + sqrt5)/2.0)**n - ((1.0 - sqrt5)/2.0)**n)/sqrt5"
     ],
     "language": "python",
     "metadata": {},
     "outputs": [],
     "prompt_number": 38
    },
    {
     "cell_type": "code",
     "collapsed": false,
     "input": [
      "k = 3   # try 10, 20, 50"
     ],
     "language": "python",
     "metadata": {},
     "outputs": [],
     "prompt_number": 57
    },
    {
     "cell_type": "code",
     "collapsed": false,
     "input": [
      "%timeit fibonacciDirect(k)\n",
      "fibonacciDirect(k)"
     ],
     "language": "python",
     "metadata": {},
     "outputs": [
      {
       "output_type": "stream",
       "stream": "stdout",
       "text": [
        "1000000 loops, best of 3: 704 ns per loop\n"
       ]
      },
      {
       "metadata": {},
       "output_type": "pyout",
       "prompt_number": 58,
       "text": [
        "2.0"
       ]
      }
     ],
     "prompt_number": 58
    },
    {
     "cell_type": "code",
     "collapsed": false,
     "input": [
      "def fibonacciRecursive(n):\n",
      "    if (n <= 2): \n",
      "        return 1 \n",
      "    else: \n",
      "        a = fibonacciRecursive(n-1) \n",
      "        b = fibonacciRecursive(n-2)\n",
      "\treturn a+b"
     ],
     "language": "python",
     "metadata": {},
     "outputs": [],
     "prompt_number": 59
    },
    {
     "cell_type": "code",
     "collapsed": false,
     "input": [
      "%timeit fibonacciRecursive(k)\n",
      "fibonacciRecursive(k)"
     ],
     "language": "python",
     "metadata": {},
     "outputs": [
      {
       "output_type": "stream",
       "stream": "stdout",
       "text": [
        "1000000 loops, best of 3: 502 ns per loop\n"
       ]
      },
      {
       "metadata": {},
       "output_type": "pyout",
       "prompt_number": 60,
       "text": [
        "2"
       ]
      }
     ],
     "prompt_number": 60
    },
    {
     "cell_type": "code",
     "collapsed": false,
     "input": [
      "def fibonacciIterative(n): \n",
      "    f0, f1 = 0, 1\n",
      "    for i in xrange(n):\n",
      "        f0, f1 =f1, f0 + f1\n",
      "    return f0"
     ],
     "language": "python",
     "metadata": {},
     "outputs": [],
     "prompt_number": 61
    },
    {
     "cell_type": "code",
     "collapsed": false,
     "input": [
      "%timeit fibonacciIterative(k)\n",
      "fibonacciIterative(k)"
     ],
     "language": "python",
     "metadata": {},
     "outputs": [
      {
       "output_type": "stream",
       "stream": "stdout",
       "text": [
        "1000000 loops, best of 3: 806 ns per loop\n"
       ]
      },
      {
       "metadata": {},
       "output_type": "pyout",
       "prompt_number": 56,
       "text": [
        "2"
       ]
      }
     ],
     "prompt_number": 56
    },
    {
     "cell_type": "code",
     "collapsed": false,
     "input": [],
     "language": "python",
     "metadata": {},
     "outputs": []
    }
   ],
   "metadata": {}
  }
 ]
}