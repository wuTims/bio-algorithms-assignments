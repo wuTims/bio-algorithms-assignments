{
 "metadata": {
  "name": "",
  "signature": "sha256:7fb162acd475380e00a938ab212fc625ffe9986e3218898ed69e7cf1263c1d12"
 },
 "nbformat": 3,
 "nbformat_minor": 0,
 "worksheets": [
  {
   "cells": [
    {
     "cell_type": "code",
     "collapsed": false,
     "input": [
      "cd ~"
     ],
     "language": "python",
     "metadata": {},
     "outputs": [
      {
       "output_type": "stream",
       "stream": "stdout",
       "text": [
        "C:\\Users\\tlwu\n"
       ]
      }
     ],
     "prompt_number": 1
    },
    {
     "cell_type": "code",
     "collapsed": false,
     "input": [
      "cd comp555"
     ],
     "language": "python",
     "metadata": {},
     "outputs": [
      {
       "output_type": "stream",
       "stream": "stdout",
       "text": [
        "C:\\Users\\tlwu\\comp555\n"
       ]
      }
     ],
     "prompt_number": 2
    },
    {
     "cell_type": "code",
     "collapsed": false,
     "input": [
      "import gzip\n",
      "\n",
      "fp = gzip.open(\"HumChr01.fa.gz\")\n",
      "\n",
      "for i in xrange(21):\n",
      "    line = fp.readline()\n",
      "    print len(line), line,\n",
      "fp.close()\n"
     ],
     "language": "python",
     "metadata": {},
     "outputs": [
      {
       "output_type": "stream",
       "stream": "stdout",
       "text": [
        "90 >gi|224384768|gb|CM000663.1| Homo sapiens chromosome 1, GRCh37 primary reference assembly\n",
        "71 NNNNNNNNNNNNNNNNNNNNNNNNNNNNNNNNNNNNNNNNNNNNNNNNNNNNNNNNNNNNNNNNNNNNNN\n",
        "71 NNNNNNNNNNNNNNNNNNNNNNNNNNNNNNNNNNNNNNNNNNNNNNNNNNNNNNNNNNNNNNNNNNNNNN\n",
        "71 NNNNNNNNNNNNNNNNNNNNNNNNNNNNNNNNNNNNNNNNNNNNNNNNNNNNNNNNNNNNNNNNNNNNNN\n",
        "71 NNNNNNNNNNNNNNNNNNNNNNNNNNNNNNNNNNNNNNNNNNNNNNNNNNNNNNNNNNNNNNNNNNNNNN\n",
        "71 NNNNNNNNNNNNNNNNNNNNNNNNNNNNNNNNNNNNNNNNNNNNNNNNNNNNNNNNNNNNNNNNNNNNNN\n",
        "71 NNNNNNNNNNNNNNNNNNNNNNNNNNNNNNNNNNNNNNNNNNNNNNNNNNNNNNNNNNNNNNNNNNNNNN\n",
        "71 NNNNNNNNNNNNNNNNNNNNNNNNNNNNNNNNNNNNNNNNNNNNNNNNNNNNNNNNNNNNNNNNNNNNNN\n",
        "71 NNNNNNNNNNNNNNNNNNNNNNNNNNNNNNNNNNNNNNNNNNNNNNNNNNNNNNNNNNNNNNNNNNNNNN\n",
        "71 NNNNNNNNNNNNNNNNNNNNNNNNNNNNNNNNNNNNNNNNNNNNNNNNNNNNNNNNNNNNNNNNNNNNNN\n",
        "71 NNNNNNNNNNNNNNNNNNNNNNNNNNNNNNNNNNNNNNNNNNNNNNNNNNNNNNNNNNNNNNNNNNNNNN\n",
        "71 NNNNNNNNNNNNNNNNNNNNNNNNNNNNNNNNNNNNNNNNNNNNNNNNNNNNNNNNNNNNNNNNNNNNNN\n",
        "71 NNNNNNNNNNNNNNNNNNNNNNNNNNNNNNNNNNNNNNNNNNNNNNNNNNNNNNNNNNNNNNNNNNNNNN\n",
        "71 NNNNNNNNNNNNNNNNNNNNNNNNNNNNNNNNNNNNNNNNNNNNNNNNNNNNNNNNNNNNNNNNNNNNNN\n",
        "71 NNNNNNNNNNNNNNNNNNNNNNNNNNNNNNNNNNNNNNNNNNNNNNNNNNNNNNNNNNNNNNNNNNNNNN\n",
        "71 NNNNNNNNNNNNNNNNNNNNNNNNNNNNNNNNNNNNNNNNNNNNNNNNNNNNNNNNNNNNNNNNNNNNNN\n",
        "71 NNNNNNNNNNNNNNNNNNNNNNNNNNNNNNNNNNNNNNNNNNNNNNNNNNNNNNNNNNNNNNNNNNNNNN\n",
        "71 NNNNNNNNNNNNNNNNNNNNNNNNNNNNNNNNNNNNNNNNNNNNNNNNNNNNNNNNNNNNNNNNNNNNNN\n",
        "71 NNNNNNNNNNNNNNNNNNNNNNNNNNNNNNNNNNNNNNNNNNNNNNNNNNNNNNNNNNNNNNNNNNNNNN\n",
        "71 NNNNNNNNNNNNNNNNNNNNNNNNNNNNNNNNNNNNNNNNNNNNNNNNNNNNNNNNNNNNNNNNNNNNNN\n",
        "71 NNNNNNNNNNNNNNNNNNNNNNNNNNNNNNNNNNNNNNNNNNNNNNNNNNNNNNNNNNNNNNNNNNNNNN\n"
       ]
      }
     ],
     "prompt_number": 3
    },
    {
     "cell_type": "code",
     "collapsed": false,
     "input": [
      "fp = gzip.open(\"HumChr01.fa.gz\")\n",
      "line = fp.read().split('\\n')\n",
      "line[1]"
     ],
     "language": "python",
     "metadata": {},
     "outputs": [
      {
       "metadata": {},
       "output_type": "pyout",
       "prompt_number": 4,
       "text": [
        "'NNNNNNNNNNNNNNNNNNNNNNNNNNNNNNNNNNNNNNNNNNNNNNNNNNNNNNNNNNNNNNNNNNNNNN'"
       ]
      }
     ],
     "prompt_number": 4
    },
    {
     "cell_type": "code",
     "collapsed": false,
     "input": [
      "line[23]"
     ],
     "language": "python",
     "metadata": {},
     "outputs": [
      {
       "metadata": {},
       "output_type": "pyout",
       "prompt_number": 5,
       "text": [
        "'NNNNNNNNNNNNNNNNNNNNNNNNNNNNNNNNNNNNNNNNNNNNNNNNNNNNNNNNNNNNNNNNNNNNNN'"
       ]
      }
     ],
     "prompt_number": 5
    },
    {
     "cell_type": "code",
     "collapsed": false,
     "input": [
      "line[1000000]"
     ],
     "language": "python",
     "metadata": {},
     "outputs": [
      {
       "metadata": {},
       "output_type": "pyout",
       "prompt_number": 6,
       "text": [
        "'AAAAAAGCTAAAAGTATTGTAAAAAGAAAACATGAATAAGATGTTAAATATAAGTCAAAATAATCAGGAA'"
       ]
      }
     ],
     "prompt_number": 6
    },
    {
     "cell_type": "code",
     "collapsed": false,
     "input": [
      "line[-40000]"
     ],
     "language": "python",
     "metadata": {},
     "outputs": [
      {
       "metadata": {},
       "output_type": "pyout",
       "prompt_number": 10,
       "text": [
        "'GGACTCCAGAAGAACTTACCGCTATGTCCAAACTGGGTTGGAGGGGGACAAGCTGGGTTTAAATTGCGTT'"
       ]
      }
     ],
     "prompt_number": 10
    },
    {
     "cell_type": "code",
     "collapsed": false,
     "input": [
      "line[1000:1004]"
     ],
     "language": "python",
     "metadata": {},
     "outputs": [
      {
       "metadata": {},
       "output_type": "pyout",
       "prompt_number": 11,
       "text": [
        "['ACACTGAGGAACAAAGACATGAAGACGGCAATAAGACAGCTGAGAAAATGGGATGCACATTCTAGTGTAA',\n",
        " 'AGTTTTAGATCTTATATAACTGTGAGATTAATCTCAGATAATGACACAAAATATAGTGAAGTTGGTAAGT',\n",
        " 'TATTTAGTAAAGCTCATGAAAATTGTGCCCTCCATTCCCATATAATTTAGTAATTGTCTAGGAACTTCCA',\n",
        " 'CATACATTGCCTCAATTTATCTTTCAACAACTTGTGTGTTATATTTTGGAATACAGATACAAAGTTATTA']"
       ]
      }
     ],
     "prompt_number": 11
    },
    {
     "cell_type": "code",
     "collapsed": false,
     "input": [
      "'-'.join(line[1000:1004])"
     ],
     "language": "python",
     "metadata": {},
     "outputs": [
      {
       "metadata": {},
       "output_type": "pyout",
       "prompt_number": 12,
       "text": [
        "'ACACTGAGGAACAAAGACATGAAGACGGCAATAAGACAGCTGAGAAAATGGGATGCACATTCTAGTGTAA-AGTTTTAGATCTTATATAACTGTGAGATTAATCTCAGATAATGACACAAAATATAGTGAAGTTGGTAAGT-TATTTAGTAAAGCTCATGAAAATTGTGCCCTCCATTCCCATATAATTTAGTAATTGTCTAGGAACTTCCA-CATACATTGCCTCAATTTATCTTTCAACAACTTGTGTGTTATATTTTGGAATACAGATACAAAGTTATTA'"
       ]
      }
     ],
     "prompt_number": 12
    },
    {
     "cell_type": "code",
     "collapsed": false,
     "input": [
      "''.join(line[1000:1004])"
     ],
     "language": "python",
     "metadata": {},
     "outputs": [
      {
       "metadata": {},
       "output_type": "pyout",
       "prompt_number": 13,
       "text": [
        "'ACACTGAGGAACAAAGACATGAAGACGGCAATAAGACAGCTGAGAAAATGGGATGCACATTCTAGTGTAAAGTTTTAGATCTTATATAACTGTGAGATTAATCTCAGATAATGACACAAAATATAGTGAAGTTGGTAAGTTATTTAGTAAAGCTCATGAAAATTGTGCCCTCCATTCCCATATAATTTAGTAATTGTCTAGGAACTTCCACATACATTGCCTCAATTTATCTTTCAACAACTTGTGTGTTATATTTTGGAATACAGATACAAAGTTATTA'"
       ]
      }
     ],
     "prompt_number": 13
    },
    {
     "cell_type": "code",
     "collapsed": false,
     "input": [
      "line[:5]"
     ],
     "language": "python",
     "metadata": {},
     "outputs": [
      {
       "metadata": {},
       "output_type": "pyout",
       "prompt_number": 14,
       "text": [
        "['>gi|224384768|gb|CM000663.1| Homo sapiens chromosome 1, GRCh37 primary reference assembly',\n",
        " 'NNNNNNNNNNNNNNNNNNNNNNNNNNNNNNNNNNNNNNNNNNNNNNNNNNNNNNNNNNNNNNNNNNNNNN',\n",
        " 'NNNNNNNNNNNNNNNNNNNNNNNNNNNNNNNNNNNNNNNNNNNNNNNNNNNNNNNNNNNNNNNNNNNNNN',\n",
        " 'NNNNNNNNNNNNNNNNNNNNNNNNNNNNNNNNNNNNNNNNNNNNNNNNNNNNNNNNNNNNNNNNNNNNNN',\n",
        " 'NNNNNNNNNNNNNNNNNNNNNNNNNNNNNNNNNNNNNNNNNNNNNNNNNNNNNNNNNNNNNNNNNNNNNN']"
       ]
      }
     ],
     "prompt_number": 14
    },
    {
     "cell_type": "code",
     "collapsed": false,
     "input": [
      "foo = ''.join(line[1:])"
     ],
     "language": "python",
     "metadata": {},
     "outputs": [],
     "prompt_number": 17
    },
    {
     "cell_type": "code",
     "collapsed": false,
     "input": [
      "len(foo)"
     ],
     "language": "python",
     "metadata": {},
     "outputs": [
      {
       "metadata": {},
       "output_type": "pyout",
       "prompt_number": 18,
       "text": [
        "249250621"
       ]
      }
     ],
     "prompt_number": 18
    },
    {
     "cell_type": "code",
     "collapsed": false,
     "input": [
      "def loadChromosome(filename):\n",
      "    fp = gzip.open(filename, 'rb')\n",
      "    data = fp.read().split('\\n')\n",
      "    header = data.pop(0)\n",
      "    fp.close()\n",
      "    return ''.join(data)"
     ],
     "language": "python",
     "metadata": {},
     "outputs": [],
     "prompt_number": 19
    },
    {
     "cell_type": "code",
     "collapsed": false,
     "input": [
      "seq = loadChromosome(\"HumChr01.fa.gz\")\n",
      "print len(seq)\n",
      "print seq[0:50]\n",
      "print seq[1000000:1000050]\n",
      "print seq[-50:]"
     ],
     "language": "python",
     "metadata": {},
     "outputs": [
      {
       "output_type": "stream",
       "stream": "stdout",
       "text": [
        "249250621\n"
       ]
      },
      {
       "output_type": "stream",
       "stream": "stdout",
       "text": [
        "NNNNNNNNNNNNNNNNNNNNNNNNNNNNNNNNNNNNNNNNNNNNNNNNNN\n",
        "GGGCACAGCCTCACCCAGGAAAGCAGCTGGGGGTCCACTGGGCTCAGGGA\n",
        "NNNNNNNNNNNNNNNNNNNNNNNNNNNNNNNNNNNNNNNNNNNNNNNNNN\n"
       ]
      }
     ],
     "prompt_number": 22
    },
    {
     "cell_type": "code",
     "collapsed": false,
     "input": [
      "seq = open(\"HumChr01.seq\").read()\n",
      "print len(seq)"
     ],
     "language": "python",
     "metadata": {},
     "outputs": [
      {
       "output_type": "stream",
       "stream": "stdout",
       "text": [
        "249250621\n"
       ]
      }
     ],
     "prompt_number": 25
    },
    {
     "cell_type": "code",
     "collapsed": false,
     "input": [
      "total = 0\n",
      "for base in \"ACGTN\": #iterates through each character\n",
      "    n = seq.count(base)\n",
      "    total += n\n",
      "    print base, n, total"
     ],
     "language": "python",
     "metadata": {},
     "outputs": [
      {
       "output_type": "stream",
       "stream": "stdout",
       "text": [
        "A 65570891 65570891\n",
        "C"
       ]
      },
      {
       "output_type": "stream",
       "stream": "stdout",
       "text": [
        " 47024412 112595303\n",
        "G"
       ]
      },
      {
       "output_type": "stream",
       "stream": "stdout",
       "text": [
        " 47016562 159611865\n",
        "T"
       ]
      },
      {
       "output_type": "stream",
       "stream": "stdout",
       "text": [
        " 65668756 225280621\n",
        "N"
       ]
      },
      {
       "output_type": "stream",
       "stream": "stdout",
       "text": [
        " 23970000 249250621\n"
       ]
      }
     ],
     "prompt_number": 24
    },
    {
     "cell_type": "code",
     "collapsed": false,
     "input": [
      "fee = {\"A\":7, \"B\":2, \"C\":4}\n",
      "fee[\"A\"] +=1\n",
      "print fee[\"A\"], fee.get(\"A\")"
     ],
     "language": "python",
     "metadata": {},
     "outputs": [
      {
       "output_type": "stream",
       "stream": "stdout",
       "text": [
        "8 8\n"
       ]
      }
     ],
     "prompt_number": 26
    },
    {
     "cell_type": "code",
     "collapsed": false,
     "input": [
      "fee = {\"A\":7, \"B\":2, \"C\":4}\n",
      "print fee.get(\"D\",0)"
     ],
     "language": "python",
     "metadata": {},
     "outputs": [
      {
       "output_type": "stream",
       "stream": "stdout",
       "text": [
        "0\n"
       ]
      }
     ],
     "prompt_number": 28
    },
    {
     "cell_type": "code",
     "collapsed": false,
     "input": [
      "kmers = {}\n",
      "\n",
      "end = len(seq)\n",
      "for i in xrange(0, end-5): #starting from 0 to (not including) last index\n",
      "    subseq = seq[i:i+5]\n",
      "    if \"N\" not in subseq:\n",
      "        kmers[subseq] = kmers.get(subseq, 0) + 1 #dynamically preintializes new values if not seen before. If subseq not in kmers, preinitialize to 0 then add 1\n",
      "    if ((i % 10000000) == 0):\n",
      "        print i\n",
      "        "
     ],
     "language": "python",
     "metadata": {},
     "outputs": [
      {
       "output_type": "stream",
       "stream": "stdout",
       "text": [
        "0\n",
        "10000000"
       ]
      },
      {
       "output_type": "stream",
       "stream": "stdout",
       "text": [
        "\n",
        "20000000"
       ]
      },
      {
       "output_type": "stream",
       "stream": "stdout",
       "text": [
        "\n",
        "30000000"
       ]
      },
      {
       "output_type": "stream",
       "stream": "stdout",
       "text": [
        "\n",
        "40000000"
       ]
      },
      {
       "output_type": "stream",
       "stream": "stdout",
       "text": [
        "\n",
        "50000000"
       ]
      },
      {
       "output_type": "stream",
       "stream": "stdout",
       "text": [
        "\n",
        "60000000"
       ]
      },
      {
       "output_type": "stream",
       "stream": "stdout",
       "text": [
        "\n",
        "70000000"
       ]
      },
      {
       "output_type": "stream",
       "stream": "stdout",
       "text": [
        "\n",
        "80000000"
       ]
      },
      {
       "output_type": "stream",
       "stream": "stdout",
       "text": [
        "\n",
        "90000000"
       ]
      },
      {
       "output_type": "stream",
       "stream": "stdout",
       "text": [
        "\n",
        "100000000"
       ]
      },
      {
       "output_type": "stream",
       "stream": "stdout",
       "text": [
        "\n",
        "110000000"
       ]
      },
      {
       "output_type": "stream",
       "stream": "stdout",
       "text": [
        "\n",
        "120000000"
       ]
      },
      {
       "output_type": "stream",
       "stream": "stdout",
       "text": [
        "\n",
        "130000000"
       ]
      },
      {
       "output_type": "stream",
       "stream": "stdout",
       "text": [
        "\n",
        "140000000"
       ]
      },
      {
       "output_type": "stream",
       "stream": "stdout",
       "text": [
        "\n",
        "150000000"
       ]
      },
      {
       "output_type": "stream",
       "stream": "stdout",
       "text": [
        "\n",
        "160000000"
       ]
      },
      {
       "output_type": "stream",
       "stream": "stdout",
       "text": [
        "\n",
        "170000000"
       ]
      },
      {
       "output_type": "stream",
       "stream": "stdout",
       "text": [
        "\n",
        "180000000"
       ]
      },
      {
       "output_type": "stream",
       "stream": "stdout",
       "text": [
        "\n",
        "190000000"
       ]
      },
      {
       "output_type": "stream",
       "stream": "stdout",
       "text": [
        "\n",
        "200000000"
       ]
      },
      {
       "output_type": "stream",
       "stream": "stdout",
       "text": [
        "\n",
        "210000000"
       ]
      },
      {
       "output_type": "stream",
       "stream": "stdout",
       "text": [
        "\n",
        "220000000"
       ]
      },
      {
       "output_type": "stream",
       "stream": "stdout",
       "text": [
        "\n",
        "230000000"
       ]
      },
      {
       "output_type": "stream",
       "stream": "stdout",
       "text": [
        "\n",
        "240000000"
       ]
      },
      {
       "output_type": "stream",
       "stream": "stdout",
       "text": [
        "\n"
       ]
      }
     ],
     "prompt_number": 31
    },
    {
     "cell_type": "code",
     "collapsed": false,
     "input": [
      "for key in sorted(kmers.iterkeys()):\n",
      "    print key, kmers[key]\n",
      "    \n",
      "print len(kmers)"
     ],
     "language": "python",
     "metadata": {},
     "outputs": [
      {
       "output_type": "stream",
       "stream": "stdout",
       "text": [
        "AAAAA 1497365\n",
        "AAAAC 453488\n",
        "AAAAG 556948\n",
        "AAAAT 866861\n",
        "AAACA 511105\n",
        "AAACC 272755\n",
        "AAACG 47553\n",
        "AAACT 382607\n",
        "AAAGA 573537\n",
        "AAAGC 282279\n",
        "AAAGG 348084\n",
        "AAAGT 396015\n",
        "AAATA 715191\n",
        "AAATC 319749\n",
        "AAATG 520768\n",
        "AAATT 598529\n",
        "AACAA 426529\n",
        "AACAC 232086\n",
        "AACAG 308360\n",
        "AACAT 358817\n",
        "AACCA 256313\n",
        "AACCC 203185\n",
        "AACCG 25087\n",
        "AACCT 245428\n",
        "AACGA 33801\n",
        "AACGC 23531\n",
        "AACGG 28448\n",
        "AACGT 42470\n",
        "AACTA 228589\n",
        "AACTC 240787\n",
        "AACTG 263042\n",
        "AACTT 297249\n",
        "AAGAA 575442\n",
        "AAGAC 255266\n",
        "AAGAG 354010\n",
        "AAGAT 317378\n",
        "AAGCA 327332\n",
        "AAGCC 209972\n",
        "AAGCG 40621\n",
        "AAGCT 250177\n",
        "AAGGA 372451\n",
        "AAGGC 220324\n",
        "AAGGG 242587\n",
        "AAGGT 222644\n",
        "AAGTA 274068\n",
        "AAGTC 207246\n",
        "AAGTG 316988\n",
        "AAGTT 297049\n",
        "AATAA 583649\n",
        "AATAC 263633\n",
        "AATAG 267516\n",
        "AATAT 473529\n",
        "AATCA 316263\n",
        "AATCC 249014\n",
        "AATCG 33763\n",
        "AATCT 301671\n",
        "AATGA 392152\n",
        "AATGC 230426\n",
        "AATGG 294483\n",
        "AATGT 358912\n",
        "AATTA 438386\n",
        "AATTC 299901\n",
        "AATTG 269783\n",
        "AATTT 598642\n",
        "ACAAA 515422\n",
        "ACAAC 184126\n",
        "ACAAG 235288\n",
        "ACAAT 278954\n",
        "ACACA 410225\n",
        "ACACC 189248\n",
        "ACACG 48364\n",
        "ACACT 231460\n",
        "ACAGA 396413\n",
        "ACAGC 223426\n",
        "ACAGG 316466\n",
        "ACAGT 260952\n",
        "ACATA 303154\n",
        "ACATC 190601\n",
        "ACATG 297569\n",
        "ACATT 358203\n",
        "ACCAA 238833\n",
        "ACCAC 232466\n",
        "ACCAG 237270\n",
        "ACCAT 259681\n",
        "ACCCA 260972\n",
        "ACCCC 179270\n",
        "ACCCG 44977\n",
        "ACCCT 200633\n",
        "ACCGA 24672\n",
        "ACCGC 32477\n",
        "ACCGG 23832\n",
        "ACCGT 34532\n",
        "ACCTA 163801\n",
        "ACCTC 260775\n",
        "ACCTG 269436\n",
        "ACCTT 222078\n",
        "ACGAA 35097\n",
        "ACGAC 18433\n",
        "ACGAG 38014\n",
        "ACGAT 31254\n",
        "ACGCA 33443\n",
        "ACGCC 56723\n",
        "ACGCG 8551\n",
        "ACGCT 31830\n",
        "ACGGA 39227\n",
        "ACGGC 27497\n",
        "ACGGG 43894\n",
        "ACGGT 34464\n",
        "ACGTA 34763\n",
        "ACGTC 27898\n",
        "ACGTG 55860\n",
        "ACGTT 42408\n",
        "ACTAA 232311\n",
        "ACTAC 146660\n",
        "ACTAG 138313\n",
        "ACTAT 211123\n",
        "ACTCA 254143\n",
        "ACTCC 249290\n",
        "ACTCG 35972\n",
        "ACTCT 262607\n",
        "ACTGA 264928\n",
        "ACTGC 249885\n",
        "ACTGG 228335\n",
        "ACTGT 261171\n",
        "ACTTA 224844\n",
        "ACTTC 234530\n",
        "ACTTG 239487\n",
        "ACTTT 396908\n",
        "AGAAA 690665\n",
        "AGAAC 241556\n",
        "AGAAG 390431\n",
        "AGAAT 403769\n",
        "AGACA 344801\n",
        "AGACC 202919\n",
        "AGACG 55016\n",
        "AGACT 257014\n",
        "AGAGA 483746\n",
        "AGAGC 234879\n",
        "AGAGG 327292\n",
        "AGAGT 261391\n",
        "AGATA 277084\n",
        "AGATC 201090\n",
        "AGATG 316290\n",
        "AGATT 300801\n",
        "AGCAA 320377\n",
        "AGCAC 221308\n",
        "AGCAG 308934\n",
        "AGCAT 251921\n",
        "AGCCA 343164\n",
        "AGCCC 206896\n",
        "AGCCG 57443\n",
        "AGCCT 359685\n",
        "AGCGA 47855\n",
        "AGCGC 28515\n",
        "AGCGG 35367\n",
        "AGCGT 31677\n",
        "AGCTA 229178\n",
        "AGCTC 223730\n",
        "AGCTG 337807\n",
        "AGCTT 250067\n",
        "AGGAA 442472\n",
        "AGGAC 181550\n",
        "AGGAG 407787\n",
        "AGGAT 256965\n",
        "AGGCA 377134\n",
        "AGGCC 230260\n",
        "AGGCG 85735\n",
        "AGGCT 358851\n",
        "AGGGA 315689\n",
        "AGGGC 190899\n",
        "AGGGG 218251\n",
        "AGGGT 200912\n",
        "AGGTA 196321\n",
        "AGGTC 179196\n",
        "AGGTG 296216\n",
        "AGGTT 246376\n",
        "AGTAA 261769\n",
        "AGTAC 127926\n",
        "AGTAG 234147\n",
        "AGTAT 218334\n",
        "AGTCA 235847\n",
        "AGTCC 172514\n",
        "AGTCG 21995\n",
        "AGTCT 257506\n",
        "AGTGA 338931\n",
        "AGTGC 221229\n",
        "AGTGG 275842\n",
        "AGTGT 233032\n",
        "AGTTA 219241\n",
        "AGTTC 229133\n",
        "AGTTG 199047\n",
        "AGTTT 383493\n",
        "ATAAA 601737\n",
        "ATAAC 186732\n",
        "ATAAG 232739\n",
        "ATAAT 409626\n",
        "ATACA 329593\n",
        "ATACC 147432\n",
        "ATACG 29303\n",
        "ATACT 219176\n",
        "ATAGA 259384\n",
        "ATAGC 155987\n",
        "ATAGG 166884\n",
        "ATAGT 211771\n",
        "ATATA 479557\n",
        "ATATC 205003\n",
        "ATATG 285580\n",
        "ATATT 474791\n",
        "ATCAA 261885\n",
        "ATCAC 237504\n",
        "ATCAG 231251\n",
        "ATCAT 283347\n",
        "ATCCA 247240\n",
        "ATCCC 219430\n",
        "ATCCG 28588\n",
        "ATCCT 256919\n",
        "ATCGA 26441\n",
        "ATCGC 36411\n",
        "ATCGG 19587\n",
        "ATCGT 31883\n",
        "ATCTA 214559\n",
        "ATCTC 292687\n",
        "ATCTG 270557\n",
        "ATCTT 318290\n",
        "ATGAA 390854\n",
        "ATGAC 181213\n",
        "ATGAG 283609\n",
        "ATGAT 283686\n",
        "ATGCA 258209\n",
        "ATGCC 216047\n",
        "ATGCG 26783\n",
        "ATGCT 251100\n",
        "ATGGA 292907\n",
        "ATGGC 205567\n",
        "ATGGG 236216\n",
        "ATGGT 259805\n",
        "ATGTA 283512\n",
        "ATGTC 200963\n",
        "ATGTG 307172\n",
        "ATGTT 360933\n",
        "ATTAA 388872\n",
        "ATTAC 240147\n",
        "ATTAG 243073\n",
        "ATTAT 410086\n",
        "ATTCA 344551\n",
        "ATTCC 242745\n",
        "ATTCG 26611\n",
        "ATTCT 404950\n",
        "ATTGA 249114\n",
        "ATTGC 203849\n",
        "ATTGG 185828\n",
        "ATTGT 280257\n",
        "ATTTA 496394\n",
        "ATTTC 409444\n",
        "ATTTG 383048\n",
        "ATTTT 866898\n",
        "CAAAA 580884\n",
        "CAAAC 255325\n",
        "CAAAG 368472\n",
        "CAAAT 382233\n",
        "CAACA 303271\n",
        "CAACC 172452\n",
        "CAACG 28777\n",
        "CAACT 199246\n",
        "CAAGA 311833\n",
        "CAAGC 191811\n",
        "CAAGG 247988\n",
        "CAAGT 238895\n",
        "CAATA 250602\n",
        "CAATC 165325\n",
        "CAATG 230519\n",
        "CAATT 268911\n",
        "CACAA 276166\n",
        "CACAC 324616\n",
        "CACAG 336408\n",
        "CACAT 306155\n",
        "CACCA 325471\n",
        "CACCC 226087\n",
        "CACCG 51171\n",
        "CACCT 294506\n",
        "CACGA 42553\n",
        "CACGC 68128\n",
        "CACGG 50410\n",
        "CACGT 55695\n",
        "CACTA 165563\n",
        "CACTC 233660\n",
        "CACTG 352195\n",
        "CACTT 317068\n",
        "CAGAA 411803\n",
        "CAGAC 203157\n",
        "CAGAG 400717\n",
        "CAGAT 269741\n",
        "CAGCA 348333\n",
        "CAGCC 372219\n",
        "CAGCG 45543\n",
        "CAGCT 337290\n",
        "CAGGA 400964\n",
        "CAGGC 362805\n",
        "CAGGG 294308\n",
        "CAGGT 270197\n",
        "CAGTA 204063\n",
        "CAGTC 185707\n",
        "CAGTG 352106\n",
        "CAGTT 264180\n",
        "CATAA 254909\n",
        "CATAC 151051\n",
        "CATAG 183684\n",
        "CATAT 286160\n",
        "CATCA 261992\n",
        "CATCC 206188\n",
        "CATCG 28780\n",
        "CATCT 316847\n",
        "CATGA 272847\n",
        "CATGC 226818\n",
        "CATGG 274560\n",
        "CATGT 298027\n",
        "CATTA 254340\n",
        "CATTC 268677\n",
        "CATTG 232079\n",
        "CATTT 521208\n",
        "CCAAA 367225\n",
        "CCAAC 185000\n",
        "CCAAG 271912\n",
        "CCAAT 185267\n",
        "CCACA 292817\n",
        "CCACC 312278\n",
        "CCACG 62073\n",
        "CCACT 276313\n",
        "CCAGA 292019\n",
        "CCAGC 387118\n",
        "CCAGG 420438\n",
        "CCAGT 228764\n",
        "CCATA 178103\n",
        "CCATC 246194\n",
        "CCATG 274305\n",
        "CCATT 294190\n",
        "CCCAA 283282\n",
        "CCCAC 253093\n",
        "CCCAG 470983\n",
        "CCCAT 235842\n",
        "CCCCA 299794\n",
        "CCCCC 165246\n",
        "CCCCG 64133\n",
        "CCCCT 219765\n",
        "CCCGA 43749\n",
        "CCCGC 60121\n",
        "CCCGG 82842\n",
        "CCCGT 43980\n",
        "CCCTA 145067\n",
        "CCCTC 244469\n",
        "CCCTG 295727\n",
        "CCCTT 243751\n",
        "CCGAA 28114\n",
        "CCGAC 22162\n",
        "CCGAG 73075\n",
        "CCGAT 19251\n",
        "CCGCA 37769\n",
        "CCGCC 80055\n",
        "CCGCG 19768\n",
        "CCGCT 35716\n",
        "CCGGA 31391\n",
        "CCGGC 56501\n",
        "CCGGG 82572\n",
        "CCGGT 23958\n",
        "CCGTA 21231\n",
        "CCGTC 45764\n",
        "CCGTG 50350\n",
        "CCGTT 28599\n",
        "CCTAA 188857\n",
        "CCTAC 130905\n",
        "CCTAG 166791\n",
        "CCTAT 166875\n",
        "CCTCA 345127\n",
        "CCTCC 413181\n",
        "CCTCG 60991\n",
        "CCTCT 328181\n",
        "CCTGA 308455\n",
        "CCTGC 283016\n",
        "CCTGG 421068\n",
        "CCTGT 318392\n",
        "CCTTA 180087\n",
        "CCTTC 283132\n",
        "CCTTG 248320\n",
        "CCTTT 348932\n",
        "CGAAA 37153\n",
        "CGAAC 25722\n",
        "CGAAG 32284\n",
        "CGAAT 26618\n",
        "CGACA 29802\n",
        "CGACC 20719\n",
        "CGACG 6134\n",
        "CGACT 22172\n",
        "CGAGA 67603\n",
        "CGAGC 27721\n",
        "CGAGG 60265\n",
        "CGAGT 35739\n",
        "CGATA 19044\n",
        "CGATC 32311\n",
        "CGATG 28516\n",
        "CGATT 33477\n",
        "CGCAA 25776\n",
        "CGCAC 33098\n",
        "CGCAG 43775\n",
        "CGCAT 26816\n",
        "CGCCA 57289\n",
        "CGCCC 68904\n",
        "CGCCG 17265\n",
        "CGCCT 85721\n",
        "CGCGA 9578\n",
        "CGCGC 22917\n",
        "CGCGG 19858\n",
        "CGCGT 8480\n",
        "CGCTA 18329\n",
        "CGCTC 38549\n",
        "CGCTG 45878\n",
        "CGCTT 41010\n",
        "CGGAA 31556\n",
        "CGGAC 20156\n",
        "CGGAG 57396\n",
        "CGGAT 28145\n",
        "CGGCA 35059\n",
        "CGGCC 61280\n",
        "CGGCG 16867\n",
        "CGGCT 57708\n",
        "CGGGA 61784\n",
        "CGGGC 59594\n",
        "CGGGG 64300\n",
        "CGGGT 44737\n",
        "CGGTA 18216\n",
        "CGGTC 21634\n",
        "CGGTG 51455\n",
        "CGGTT 25026\n",
        "CGTAA 26530\n",
        "CGTAC 15124\n",
        "CGTAG 22892\n",
        "CGTAT 29647\n",
        "CGTCA 29383\n",
        "CGTCC 29377\n",
        "CGTCG 6130\n",
        "CGTCT 55851\n",
        "CGTGA 62436\n",
        "CGTGC 44313\n",
        "CGTGG 62690\n",
        "CGTGT 48234\n",
        "CGTTA 24293\n",
        "CGTTC 27882\n",
        "CGTTG 28540\n",
        "CGTTT 47711\n",
        "CTAAA 310298\n",
        "CTAAC 134134\n",
        "CTAAG 176723\n",
        "CTAAT 243404\n",
        "CTACA 215010\n",
        "CTACC 138330\n",
        "CTACG 22798\n",
        "CTACT 234103\n",
        "CTAGA 197205\n",
        "CTAGC 122424\n",
        "CTAGG 166526\n",
        "CTAGT 137978\n",
        "CTATA 202438\n",
        "CTATC 140425\n",
        "CTATG 184043\n",
        "CTATT 268222\n",
        "CTCAA 313653\n",
        "CTCAC 285478\n",
        "CTCAG 393327\n",
        "CTCAT 283736\n",
        "CTCCA 349286\n",
        "CTCCC 366228\n",
        "CTCCG 57699\n",
        "CTCCT 408431\n",
        "CTCGA 42397\n",
        "CTCGC 38207\n",
        "CTCGG 73096\n",
        "CTCGT 38308\n",
        "CTCTA 238642\n",
        "CTCTC 315976\n",
        "CTCTG 402223\n",
        "CTCTT 354686\n",
        "CTGAA 334885\n",
        "CTGAC 207936\n",
        "CTGAG 391712\n",
        "CTGAT 231147\n",
        "CTGCA 350838\n",
        "CTGCC 327244\n",
        "CTGCG 43919\n",
        "CTGCT 309554\n",
        "CTGGA 341274\n",
        "CTGGC 280930\n",
        "CTGGG 471694\n",
        "CTGGT 238025\n",
        "CTGTA 291232\n",
        "CTGTC 262063\n",
        "CTGTG 338419\n",
        "CTGTT 310526\n",
        "CTTAA 259482\n",
        "CTTAC 155243\n",
        "CTTAG 177405\n",
        "CTTAT 233478\n",
        "CTTCA 314234\n",
        "CTTCC 332407\n",
        "CTTCG 32012\n",
        "CTTCT 391092\n",
        "CTTGA 285142\n",
        "CTTGC 200153\n",
        "CTTGG 271756\n",
        "CTTGT 236177\n",
        "CTTTA 317934\n",
        "CTTTC 360591\n",
        "CTTTG 369823\n",
        "CTTTT 558004\n",
        "GAAAA 583268\n",
        "GAAAC 270390\n",
        "GAAAG 358496\n",
        "GAAAT 408719\n",
        "GAACA 249221\n",
        "GAACC 154263\n",
        "GAACG 27805\n",
        "GAACT 228079\n",
        "GAAGA 347163\n",
        "GAAGC 203526\n",
        "GAAGG 282083\n",
        "GAAGT 236285\n",
        "GAATA 265528\n",
        "GAATC 182116\n",
        "GAATG 271476\n",
        "GAATT 300207\n",
        "GACAA 213066\n",
        "GACAC 160997\n",
        "GACAG 261630\n",
        "GACAT 200274\n",
        "GACCA 188711\n",
        "GACCC 130496\n",
        "GACCG 21157\n",
        "GACCT 178899\n",
        "GACGA 24531\n",
        "GACGC 22344\n",
        "GACGG 45251\n",
        "GACGT 27763\n",
        "GACTA 135272\n",
        "GACTC 160596\n",
        "GACTG 185765\n",
        "GACTT 207383\n",
        "GAGAA 412139\n",
        "GAGAC 271327\n",
        "GAGAG 315245\n",
        "GAGAT 293415\n",
        "GAGCA 226075\n",
        "GAGCC 231735\n",
        "GAGCG 38707\n",
        "GAGCT 223991\n",
        "GAGGA 303363\n",
        "GAGGC 336682\n",
        "GAGGG 243505\n",
        "GAGGT 260605\n",
        "GAGTA 166142\n",
        "GAGTC 159027\n",
        "GAGTG 233978\n",
        "GAGTT 241105\n",
        "GATAA 222607\n",
        "GATAC 117584\n",
        "GATAG 140383\n",
        "GATAT 204796\n",
        "GATCA 204991\n",
        "GATCC 137994\n",
        "GATCG 32731\n",
        "GATCT 200631\n",
        "GATGA 234409\n",
        "GATGC 141317\n",
        "GATGG 246557\n",
        "GATGT 190988\n",
        "GATTA 233049\n",
        "GATTC 182500\n",
        "GATTG 165419\n",
        "GATTT 320044\n",
        "GCAAA 287924\n",
        "GCAAC 158500\n",
        "GCAAG 198827\n",
        "GCAAT 202486\n",
        "GCACA 229761\n",
        "GCACC 156299\n",
        "GCACG 44306\n",
        "GCACT 221442\n",
        "GCAGA 285199\n",
        "GCAGC 212426\n",
        "GCAGG 282885\n",
        "GCAGT 249820\n",
        "GCATA 154666\n",
        "GCATC 142929\n",
        "GCATG 226944\n",
        "GCATT 229685\n",
        "GCCAA 223237\n",
        "GCCAC 236224\n",
        "GCCAG 281157\n",
        "GCCAT 205838\n",
        "GCCCA 256136\n",
        "GCCCC 168315\n",
        "GCCCG 60005\n",
        "GCCCT 192681\n",
        "GCCGA 49380\n",
        "GCCGC 38221\n",
        "GCCGG 55754\n",
        "GCCGT 27790\n",
        "GCCTA 132519\n",
        "GCCTC 337646\n",
        "GCCTG 362961\n",
        "GCCTT 221313\n",
        "GCGAA 23522\n",
        "GCGAC 22284\n",
        "GCGAG 38173\n",
        "GCGAT 36396\n",
        "GCGCA 32345\n",
        "GCGCC 55639\n",
        "GCGCG 22821\n",
        "GCGCT 28319\n",
        "GCGGA 42206\n",
        "GCGGC 37489\n",
        "GCGGG 59959\n",
        "GCGGT 32910\n",
        "GCGTA 16543\n",
        "GCGTC 22298\n",
        "GCGTG 67975\n",
        "GCGTT 23844\n",
        "GCTAA 188423\n",
        "GCTAC 135203\n",
        "GCTAG 121443\n",
        "GCTAT 157477\n",
        "GCTCA 274025\n",
        "GCTCC 180592\n",
        "GCTCG 27501\n",
        "GCTCT 235787\n",
        "GCTGA 279570\n",
        "GCTGC 213199\n",
        "GCTGG 388349\n",
        "GCTGT 223087\n",
        "GCTTA 150275\n",
        "GCTTC 204713\n",
        "GCTTG 192373\n",
        "GCTTT 282923\n",
        "GGAAA 403035\n",
        "GGAAC 159102\n",
        "GGAAG 331738\n",
        "GGAAT 244009\n",
        "GGACA 200139\n",
        "GGACC 111288\n",
        "GGACG 29327\n",
        "GGACT 173098\n",
        "GGAGA 336675\n",
        "GGAGC 181909\n",
        "GGAGG 412600\n",
        "GGAGT 249597\n",
        "GGATA 158511\n",
        "GGATC 138073\n",
        "GGATG 206029\n",
        "GGATT 249033\n",
        "GGCAA 219461\n",
        "GGCAC 180621\n",
        "GGCAG 326243\n",
        "GGCAT 216662\n",
        "GGCCA 259162\n",
        "GGCCC 156716\n",
        "GGCCG 61371\n",
        "GGCCT 230576\n",
        "GGCGA 37050\n",
        "GGCGC 55440\n",
        "GGCGG 79291\n",
        "GGCGT 56860\n",
        "GGCTA 153733\n",
        "GGCTC 231577\n",
        "GGCTG 371488\n",
        "GGCTT 209846\n",
        "GGGAA 297180\n",
        "GGGAC 157772\n",
        "GGGAG 364659\n",
        "GGGAT 219871\n",
        "GGGCA 243695\n",
        "GGGCC 156458\n",
        "GGGCG 68372\n",
        "GGGCT 207345\n",
        "GGGGA 235175\n",
        "GGGGC 168122\n",
        "GGGGG 165499\n",
        "GGGGT 178092\n",
        "GGGTA 124865\n",
        "GGGTC 131026\n",
        "GGGTG 223692\n",
        "GGGTT 203617\n",
        "GGTAA 158885\n",
        "GGTAC 93605\n",
        "GGTAG 137367\n",
        "GGTAT 147737\n",
        "GGTCA 184884\n",
        "GGTCC 111559\n",
        "GGTCG 20877\n",
        "GGTCT 203472\n",
        "GGTGA 241156\n",
        "GGTGC 155303\n",
        "GGTGG 311925\n",
        "GGTGT 189147\n",
        "GGTTA 131182\n",
        "GGTTC 155348\n",
        "GGTTG 171795\n",
        "GGTTT 274157\n",
        "GTAAA 267146\n",
        "GTAAC 117647\n",
        "GTAAG 155230\n",
        "GTAAT 240206\n",
        "GTACA 157026\n",
        "GTACC 93217\n",
        "GTACG 15372\n",
        "GTACT 127661\n",
        "GTAGA 197544\n",
        "GTAGC 134825\n"
       ]
      },
      {
       "output_type": "stream",
       "stream": "stdout",
       "text": [
        "GTAGG 131382\n",
        "GTAGT 146473\n",
        "GTATA 193253\n",
        "GTATC 117396\n",
        "GTATG 150651\n",
        "GTATT 264706\n",
        "GTCAA 163011\n",
        "GTCAC 158162\n",
        "GTCAG 207065\n",
        "GTCAT 182401\n",
        "GTCCA 154435\n",
        "GTCCC 158272\n",
        "GTCCG 20228\n",
        "GTCCT 182148\n",
        "GTCGA 16128\n",
        "GTCGC 22348\n",
        "GTCGG 22011\n",
        "GTCGT 18720\n",
        "GTCTA 129399\n",
        "GTCTC 271862\n",
        "GTCTG 204061\n",
        "GTCTT 256830\n",
        "GTGAA 270143\n",
        "GTGAC 158169\n",
        "GTGAG 288125\n",
        "GTGAT 238026\n",
        "GTGCA 215894\n",
        "GTGCC 180389\n",
        "GTGCG 33152\n",
        "GTGCT 221309\n",
        "GTGGA 221418\n",
        "GTGGC 236328\n",
        "GTGGG 252565\n",
        "GTGGT 232905\n",
        "GTGTA 161927\n",
        "GTGTC 161597\n",
        "GTGTG 324503\n",
        "GTGTT 234495\n",
        "GTTAA 198188\n",
        "GTTAC 119032\n",
        "GTTAG 133954\n",
        "GTTAT 187653\n",
        "GTTCA 234186\n",
        "GTTCC 159501\n",
        "GTTCG 25511\n",
        "GTTCT 243881\n",
        "GTTGA 176142\n",
        "GTTGC 158893\n",
        "GTTGG 184844\n",
        "GTTGT 184679\n",
        "GTTTA 234992\n",
        "GTTTC 272758\n",
        "GTTTG 256485\n",
        "GTTTT 457238\n",
        "TAAAA 713145\n",
        "TAAAC 234817\n",
        "TAAAG 315999\n",
        "TAAAT 496424\n",
        "TAACA 262194\n",
        "TAACC 130543\n",
        "TAACG 24115\n",
        "TAACT 219735\n",
        "TAAGA 269563\n",
        "TAAGC 150486\n",
        "TAAGG 179851\n",
        "TAAGT 224156\n",
        "TAATA 357006\n",
        "TAATC 233521\n",
        "TAATG 253210\n",
        "TAATT 439065\n",
        "TACAA 298029\n",
        "TACAC 161598\n",
        "TACAG 290858\n",
        "TACAT 284281\n",
        "TACCA 197755\n",
        "TACCC 126084\n",
        "TACCG 18098\n",
        "TACCT 197257\n",
        "TACGA 21914\n",
        "TACGC 16544\n",
        "TACGG 20973\n",
        "TACGT 35001\n",
        "TACTA 198983\n",
        "TACTC 166969\n",
        "TACTG 203317\n",
        "TACTT 274070\n",
        "TAGAA 327037\n",
        "TAGAC 130000\n",
        "TAGAG 237336\n",
        "TAGAT 214731\n",
        "TAGCA 200800\n",
        "TAGCC 153262\n",
        "TAGCG 18543\n",
        "TAGCT 229323\n",
        "TAGGA 211996\n",
        "TAGGC 132169\n",
        "TAGGG 145352\n",
        "TAGGT 164662\n",
        "TAGTA 197903\n",
        "TAGTC 135882\n",
        "TAGTG 165962\n",
        "TAGTT 228580\n",
        "TATAA 369669\n",
        "TATAC 193236\n",
        "TATAG 202443\n",
        "TATAT 480446\n",
        "TATCA 230740\n",
        "TATCC 158981\n",
        "TATCG 19048\n",
        "TATCT 276944\n",
        "TATGA 239954\n",
        "TATGC 153578\n",
        "TATGG 178895\n",
        "TATGT 304653\n",
        "TATTA 356403\n",
        "TATTC 267794\n",
        "TATTG 251767\n",
        "TATTT 715890\n",
        "TCAAA 416343\n",
        "TCAAC 176120\n",
        "TCAAG 284500\n",
        "TCAAT 248650\n",
        "TCACA 310542\n",
        "TCACC 239411\n",
        "TCACG 62043\n",
        "TCACT 339271\n",
        "TCAGA 311787\n",
        "TCAGC 280415\n",
        "TCAGG 308485\n",
        "TCAGT 266520\n",
        "TCATA 239881\n",
        "TCATC 234083\n",
        "TCATG 273435\n",
        "TCATT 394226\n",
        "TCCAA 264052\n",
        "TCCAC 221698\n",
        "TCCAG 338929\n",
        "TCCAT 291431\n",
        "TCCCA 426298\n",
        "TCCCC 236107\n",
        "TCCCG 61577\n",
        "TCCCT 315935\n",
        "TCCGA 24801\n",
        "TCCGC 42489\n",
        "TCCGG 31994\n",
        "TCCGT 39642\n",
        "TCCTA 212041\n",
        "TCCTC 304590\n",
        "TCCTG 402807\n",
        "TCCTT 373329\n",
        "TCGAA 35044\n",
        "TCGAC 15948\n",
        "TCGAG 42066\n",
        "TCGAT 26447\n",
        "TCGCA 25908\n",
        "TCGCC 36762\n",
        "TCGCG 9693\n",
        "TCGCT 47901\n",
        "TCGGA 24429\n",
        "TCGGC 49427\n",
        "TCGGG 43990\n",
        "TCGGT 24999\n",
        "TCGTA 21656\n",
        "TCGTC 24781\n",
        "TCGTG 43488\n",
        "TCGTT 33575\n",
        "TCTAA 254968\n",
        "TCTAC 197473\n",
        "TCTAG 197586\n",
        "TCTAT 259653\n",
        "TCTCA 402899\n",
        "TCTCC 338581\n",
        "TCTCG 67544\n",
        "TCTCT 484952\n",
        "TCTGA 312727\n",
        "TCTGC 285455\n",
        "TCTGG 294171\n",
        "TCTGT 399590\n",
        "TCTTA 270402\n",
        "TCTTC 347370\n",
        "TCTTG 313048\n",
        "TCTTT 577589\n",
        "TGAAA 490020\n",
        "TGAAC 232988\n",
        "TGAAG 314604\n",
        "TGAAT 344912\n",
        "TGACA 261224\n",
        "TGACC 184337\n",
        "TGACG 29412\n",
        "TGACT 236732\n",
        "TGAGA 404103\n",
        "TGAGC 275999\n",
        "TGAGG 343998\n",
        "TGAGT 253525\n",
        "TGATA 230731\n",
        "TGATC 204874\n",
        "TGATG 262436\n",
        "TGATT 317700\n",
        "TGCAA 282123\n",
        "TGCAC 216781\n",
        "TGCAG 351378\n",
        "TGCAT 258825\n",
        "TGCCA 286841\n",
        "TGCCC 244621\n",
        "TGCCG 35066\n",
        "TGCCT 378457\n",
        "TGCGA 25892\n",
        "TGCGC 32252\n",
        "TGCGG 38048\n",
        "TGCGT 33643\n",
        "TGCTA 201306\n",
        "TGCTC 224049\n",
        "TGCTG 349032\n",
        "TGCTT 329362\n",
        "TGGAA 366676\n",
        "TGGAC 154374\n",
        "TGGAG 350939\n",
        "TGGAT 246666\n",
        "TGGCA 287099\n",
        "TGGCC 259827\n",
        "TGGCG 57667\n",
        "TGGCT 342741\n",
        "TGGGA 426834\n",
        "TGGGC 257255\n",
        "TGGGG 298838\n",
        "TGGGT 259459\n",
        "TGGTA 198192\n",
        "TGGTC 188936\n",
        "TGGTG 326168\n",
        "TGGTT 257463\n",
        "TGTAA 333044\n",
        "TGTAC 156621\n",
        "TGTAG 215818\n",
        "TGTAT 330288\n",
        "TGTCA 260525\n",
        "TGTCC 201633\n",
        "TGTCG 30205\n",
        "TGTCT 345323\n",
        "TGTGA 311940\n",
        "TGTGC 229899\n",
        "TGTGG 292760\n",
        "TGTGT 412109\n",
        "TGTTA 264111\n",
        "TGTTC 250716\n",
        "TGTTG 305176\n",
        "TGTTT 516112\n",
        "TTAAA 581204\n",
        "TTAAC 198073\n",
        "TTAAG 259364\n",
        "TTAAT 389566\n",
        "TTACA 333137\n",
        "TTACC 160215\n",
        "TTACG 26959\n",
        "TTACT 262398\n",
        "TTAGA 254971\n",
        "TTAGC 188692\n",
        "TTAGG 189387\n",
        "TTAGT 232105\n",
        "TTATA 370546\n",
        "TTATC 222889\n",
        "TTATG 256806\n",
        "TTATT 584135\n",
        "TTCAA 387064\n",
        "TTCAC 270123\n",
        "TTCAG 335564\n",
        "TTCAT 392141\n",
        "TTCCA 365149\n",
        "TTCCC 295987\n",
        "TTCCG 32411\n",
        "TTCCT 445269\n",
        "TTCGA 34539\n",
        "TTCGC 23298\n",
        "TTCGG 28151\n",
        "TTCGT 34589\n",
        "TTCTA 327080\n",
        "TTCTC 413451\n",
        "TTCTG 415102\n",
        "TTCTT 578603\n",
        "TTGAA 386642\n",
        "TTGAC 164387\n",
        "TTGAG 314179\n",
        "TTGAT 262882\n",
        "TTGCA 284166\n",
        "TTGCC 221306\n",
        "TTGCG 25981\n",
        "TTGCT 321786\n",
        "TTGGA 263056\n",
        "TTGGC 224509\n",
        "TTGGG 281910\n",
        "TTGGT 240024\n",
        "TTGTA 299100\n",
        "TTGTC 213063\n",
        "TTGTG 276614\n",
        "TTGTT 430161\n",
        "TTTAA 581665\n",
        "TTTAC 268287\n",
        "TTTAG 310723\n",
        "TTTAT 603159\n",
        "TTTCA 491921\n",
        "TTTCC 404164\n",
        "TTTCG 36443\n",
        "TTTCT 694313\n",
        "TTTGA 417692\n",
        "TTTGC 290344\n",
        "TTTGG 367071\n",
        "TTTGT 517825\n",
        "TTTTA 714514\n",
        "TTTTC 584048\n",
        "TTTTG 583576\n",
        "TTTTT 1500440\n",
        "1024\n"
       ]
      }
     ],
     "prompt_number": 32
    },
    {
     "cell_type": "code",
     "collapsed": false,
     "input": [
      "def reverseComplement(s):\n",
      "    watsonComp = {\"A\":\"T\", \"C\":\"G\", \"G\":\"C\", \"T\":\"A\"}\n",
      "    return ''.join([watsonComp[base] for base in reversed(s)]) #rule for constructoing a list. Construct list to have iterator through all bases in reverse string. Go through string in reverse order, extract 1 letter at time. Take letter, address dictionary\n",
      "\n",
      "\n",
      "reverseComplement(\"CAT\")"
     ],
     "language": "python",
     "metadata": {},
     "outputs": [
      {
       "metadata": {},
       "output_type": "pyout",
       "prompt_number": 20,
       "text": [
        "'ATG'"
       ]
      }
     ],
     "prompt_number": 20
    },
    {
     "cell_type": "code",
     "collapsed": false,
     "input": [
      "palindrome = []\n",
      "count = 0\n",
      "for i in xrange(4**3):\n",
      "    trip = \"ACGT\"[i//16] + \"ACGT\"[(i//4) % 4] + \"ACGT\"[i%4]# // means integer div. Indexing string by value of i//16 + string indexed by i//4 % 4 + string index by i % 4\n",
      "    palindrome.append(trip + reverseComplement(trip)) \n",
      "    count = count + 1"
     ],
     "language": "python",
     "metadata": {},
     "outputs": [],
     "prompt_number": 22
    },
    {
     "cell_type": "code",
     "collapsed": false,
     "input": [
      "print palindrome, count"
     ],
     "language": "python",
     "metadata": {},
     "outputs": [
      {
       "output_type": "stream",
       "stream": "stdout",
       "text": [
        "['AAATTT', 'AACGTT', 'AAGCTT', 'AATATT', 'ACATGT', 'ACCGGT', 'ACGCGT', 'ACTAGT', 'AGATCT', 'AGCGCT', 'AGGCCT', 'AGTACT', 'ATATAT', 'ATCGAT', 'ATGCAT', 'ATTAAT', 'CAATTG', 'CACGTG', 'CAGCTG', 'CATATG', 'CCATGG', 'CCCGGG', 'CCGCGG', 'CCTAGG', 'CGATCG', 'CGCGCG', 'CGGCCG', 'CGTACG', 'CTATAG', 'CTCGAG', 'CTGCAG', 'CTTAAG', 'GAATTC', 'GACGTC', 'GAGCTC', 'GATATC', 'GCATGC', 'GCCGGC', 'GCGCGC', 'GCTAGC', 'GGATCC', 'GGCGCC', 'GGGCCC', 'GGTACC', 'GTATAC', 'GTCGAC', 'GTGCAC', 'GTTAAC', 'TAATTA', 'TACGTA', 'TAGCTA', 'TATATA', 'TCATGA', 'TCCGGA', 'TCGCGA', 'TCTAGA', 'TGATCA', 'TGCGCA', 'TGGCCA', 'TGTACA', 'TTATAA', 'TTCGAA', 'TTGCAA', 'TTTAAA'] 64\n"
       ]
      }
     ],
     "prompt_number": 23
    },
    {
     "cell_type": "code",
     "collapsed": false,
     "input": [
      "for key in palindrome:\n",
      "    print key, kmers[key]"
     ],
     "language": "python",
     "metadata": {},
     "outputs": []
    },
    {
     "cell_type": "code",
     "collapsed": false,
     "input": [
      "seed = \"CGATCG\" #very few CG because nature wants to get rid of them ( why? )\n",
      "start = 0\n",
      "cuts = [] #use this find to prune list for reverse palindromes (pull out values from there and count how many occur)\n",
      "while start >= 0:\n",
      "    start = seq.find(seed,start) #find the subseq, starting position start. If not found, return -1\n",
      "    if (start >=0):\n",
      "        cuts.append(start)\n",
      "        start +=6 #offset start by 1, and keep looking\n",
      "        "
     ],
     "language": "python",
     "metadata": {},
     "outputs": [],
     "prompt_number": 26
    },
    {
     "cell_type": "code",
     "collapsed": false,
     "input": [
      "print len(cuts)"
     ],
     "language": "python",
     "metadata": {},
     "outputs": [
      {
       "output_type": "stream",
       "stream": "stdout",
       "text": [
        "978\n"
       ]
      }
     ],
     "prompt_number": 27
    },
    {
     "cell_type": "code",
     "collapsed": false,
     "input": [
      "print seq[cuts[73]-5:cuts[73]+11]\n"
     ],
     "language": "python",
     "metadata": {},
     "outputs": [
      {
       "output_type": "stream",
       "stream": "stdout",
       "text": [
        "AGCCACGATCGTGCCA\n"
       ]
      }
     ],
     "prompt_number": 28
    },
    {
     "cell_type": "heading",
     "level": 6,
     "metadata": {},
     "source": [
      "PROBLEM #4"
     ]
    },
    {
     "cell_type": "code",
     "collapsed": false,
     "input": [
      "#Hint for better algorithm\n",
      "#When you take frags and line up, take same frags and order other way around and get same solution\n",
      "\n",
      "#Ex.\n",
      "#Blocks sizes of size (10)(20)(30)(40)\n",
      "#Organize in order -> (10)(30)(20)(40)\n",
      "#All are cut sites of size 100\n",
      "#(10-30) cuts 40 chunk and (20-40) cuts 60 chunk - Restriction enzyme A\n",
      "#(10-(30-20)) cuts 60 chunk and (40) cuts 40 chunk - Restriciton enzyme B\n",
      "#Double digestion A+B = (10 - 30 - 20 - 40)\n",
      "#\n",
      "#(60-40) cuts for A and (40-50-10) cuts for B --> double digestion = (40 - 20 - 30- 10)\n",
      "#Symmetry in solution. A cuts section of 40 and 60 of bases ordered from 0 to 99. \n",
      "#Both are same solution\n",
      "#Print the double digestion A+B has the smallest FIRST value.\n",
      "#Don't want the reverse solution\n",
      "#Always enumerate list such that smaller value is first\n",
      "\n",
      "\n",
      "#Hint\n",
      "#    If Perumation of A is not compatible with Perumtation of A+B, then why find Permutations of B?\n",
      "#    Organize search such that they're compatible\n",
      "\n",
      "#List of numbers are compatible if both add up to same thing (framgment sizes add up)\n",
      "\n",
      "#Permutations of set A or B\n",
      "#    - Choose smaller one\n",
      "#Then Permutations of A+B\n",
      "#- Check if compatible (one is subset of other)\n"
     ],
     "language": "python",
     "metadata": {},
     "outputs": []
    },
    {
     "cell_type": "code",
     "collapsed": false,
     "input": [
      "from matplotlib import pyplot\n",
      "import numpy\n",
      "\n",
      "x = numpy.arange(0, 1.0, 0.01)\n",
      "y = x**2"
     ],
     "language": "python",
     "metadata": {},
     "outputs": [],
     "prompt_number": 31
    },
    {
     "cell_type": "code",
     "collapsed": false,
     "input": [
      "%matplotlib inline #histogram\n",
      "pyplot.plot(x,y)"
     ],
     "language": "python",
     "metadata": {},
     "outputs": [
      {
       "metadata": {},
       "output_type": "pyout",
       "prompt_number": 32,
       "text": [
        "[<matplotlib.lines.Line2D at 0x47f01240>]"
       ]
      },
      {
       "metadata": {},
       "output_type": "display_data",
       "png": "[encoded data removed]",
       "text": [
        "<matplotlib.figure.Figure at 0x3672c748>"
       ]
      }
     ],
     "prompt_number": 32
    },
    {
     "cell_type": "code",
     "collapsed": false,
     "input": [],
     "language": "python",
     "metadata": {},
     "outputs": []
    }
   ],
   "metadata": {}
  }
 ]
}