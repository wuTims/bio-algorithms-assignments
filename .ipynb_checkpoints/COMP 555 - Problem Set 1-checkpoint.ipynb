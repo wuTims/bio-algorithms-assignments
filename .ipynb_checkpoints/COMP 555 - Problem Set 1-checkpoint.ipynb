{
 "metadata": {
  "name": "",
  "signature": "sha256:2330fcba45ffc9201e62ac633e4149a72b66ae0ee19928e887bd155fff7681ae"
 },
 "nbformat": 3,
 "nbformat_minor": 0,
 "worksheets": [
  {
   "cells": [
    {
     "cell_type": "markdown",
     "metadata": {},
     "source": [
      "<b> Problem 1 </b>"
     ]
    },
    {
     "cell_type": "code",
     "collapsed": false,
     "input": [
      "cd ~"
     ],
     "language": "python",
     "metadata": {},
     "outputs": [
      {
       "output_type": "stream",
       "stream": "stdout",
       "text": [
        "C:\\Users\\tlwu\n"
       ]
      }
     ],
     "prompt_number": 5
    },
    {
     "cell_type": "code",
     "collapsed": false,
     "input": [
      "cd comp555"
     ],
     "language": "python",
     "metadata": {},
     "outputs": [
      {
       "output_type": "stream",
       "stream": "stdout",
       "text": [
        "C:\\Users\\tlwu\\comp555\n"
       ]
      }
     ],
     "prompt_number": 6
    },
    {
     "cell_type": "code",
     "collapsed": false,
     "input": [
      "import gzip\n",
      "\n",
      "fp = gzip.open(\"HumChr01.fa.gz\")\n",
      "\n",
      "def reverseComplement(s):\n",
      "    reverseComplements = {\"A\":\"T\", \"C\":\"G\", \"G\":\"C\", \"T\":\"A\"}\n",
      "    return ''.join([reverseComplements[base] for base in reversed(s)])\n",
      "\n",
      "palindrome = []\n",
      "for i in xrange(4**3):\n",
      "    trip = \"ACGT\"[i//16] + \"ACGT\"[(i//4)%4] + \"ACGT\"[i%4]\n",
      "    palindrome.append(trip + reverseComplement(trip))"
     ],
     "language": "python",
     "metadata": {},
     "outputs": [],
     "prompt_number": 10
    },
    {
     "cell_type": "code",
     "collapsed": false,
     "input": [
      "print palindrome, \"\\n\"\n",
      "print \"The number of reverse palindromic recognition sites of length 6 is: \", len(palindrome), \"\\n\"\n",
      "print \"The number of possible 6-mers is: \", 4**6, \"\\n\"\n",
      "print \"The fraction of 2N-mers that are reverse palindromic is (4^N/4^(2N)), which equals 1/4^N.\""
     ],
     "language": "python",
     "metadata": {},
     "outputs": [
      {
       "output_type": "stream",
       "stream": "stdout",
       "text": [
        "['AAATTT', 'AACGTT', 'AAGCTT', 'AATATT', 'ACATGT', 'ACCGGT', 'ACGCGT', 'ACTAGT', 'AGATCT', 'AGCGCT', 'AGGCCT', 'AGTACT', 'ATATAT', 'ATCGAT', 'ATGCAT', 'ATTAAT', 'CAATTG', 'CACGTG', 'CAGCTG', 'CATATG', 'CCATGG', 'CCCGGG', 'CCGCGG', 'CCTAGG', 'CGATCG', 'CGCGCG', 'CGGCCG', 'CGTACG', 'CTATAG', 'CTCGAG', 'CTGCAG', 'CTTAAG', 'GAATTC', 'GACGTC', 'GAGCTC', 'GATATC', 'GCATGC', 'GCCGGC', 'GCGCGC', 'GCTAGC', 'GGATCC', 'GGCGCC', 'GGGCCC', 'GGTACC', 'GTATAC', 'GTCGAC', 'GTGCAC', 'GTTAAC', 'TAATTA', 'TACGTA', 'TAGCTA', 'TATATA', 'TCATGA', 'TCCGGA', 'TCGCGA', 'TCTAGA', 'TGATCA', 'TGCGCA', 'TGGCCA', 'TGTACA', 'TTATAA', 'TTCGAA', 'TTGCAA', 'TTTAAA'] \n",
        "\n",
        "The number of reverse palindromic recognition sites of length 6 is:  64 \n",
        "\n",
        "The number of possible 6-mers is:  4096 \n",
        "\n",
        "The fraction of 2N-mers that are reverse palindromic is (4^N/4^(2N)), which equals 1/4^N.\n"
       ]
      }
     ],
     "prompt_number": 11
    },
    {
     "cell_type": "markdown",
     "metadata": {},
     "source": [
      "<b> Problem 2 </b>"
     ]
    },
    {
     "cell_type": "code",
     "collapsed": false,
     "input": [
      "def loadChromosome(filename):\n",
      "    fp = gzip.open(filename, 'rb')\n",
      "    data = fp.read().split('\\n')\n",
      "    header = data.pop(0)\n",
      "    fp.close()\n",
      "    return ''.join(data)"
     ],
     "language": "python",
     "metadata": {},
     "outputs": [],
     "prompt_number": 12
    },
    {
     "cell_type": "code",
     "collapsed": false,
     "input": [
      "seq = loadChromosome(\"HumChr01.fa.gz\")\n"
     ],
     "language": "python",
     "metadata": {},
     "outputs": [],
     "prompt_number": 13
    },
    {
     "cell_type": "code",
     "collapsed": false,
     "input": [
      "reverseSites = {}\n",
      "end = len(seq)\n",
      "\n",
      "for i in xrange(0, end-6):\n",
      "    subseq = seq[i:i+6]\n",
      "    \n",
      "    if \"N\" not in subseq:\n",
      "        if subseq in palindrome:\n",
      "            reverseSites[subseq] = reverseSites.get(subseq, 0) + 1\n",
      "    if ((i % 10000000) == 0):\n",
      "        print i"
     ],
     "language": "python",
     "metadata": {},
     "outputs": [
      {
       "output_type": "stream",
       "stream": "stdout",
       "text": [
        "0\n",
        "10000000"
       ]
      },
      {
       "output_type": "stream",
       "stream": "stdout",
       "text": [
        "\n",
        "20000000"
       ]
      },
      {
       "output_type": "stream",
       "stream": "stdout",
       "text": [
        "\n",
        "30000000"
       ]
      },
      {
       "output_type": "stream",
       "stream": "stdout",
       "text": [
        "\n",
        "40000000"
       ]
      },
      {
       "output_type": "stream",
       "stream": "stdout",
       "text": [
        "\n",
        "50000000"
       ]
      },
      {
       "output_type": "stream",
       "stream": "stdout",
       "text": [
        "\n",
        "60000000"
       ]
      },
      {
       "output_type": "stream",
       "stream": "stdout",
       "text": [
        "\n",
        "70000000"
       ]
      },
      {
       "output_type": "stream",
       "stream": "stdout",
       "text": [
        "\n",
        "80000000"
       ]
      },
      {
       "output_type": "stream",
       "stream": "stdout",
       "text": [
        "\n",
        "90000000"
       ]
      },
      {
       "output_type": "stream",
       "stream": "stdout",
       "text": [
        "\n",
        "100000000"
       ]
      },
      {
       "output_type": "stream",
       "stream": "stdout",
       "text": [
        "\n",
        "110000000"
       ]
      },
      {
       "output_type": "stream",
       "stream": "stdout",
       "text": [
        "\n",
        "120000000"
       ]
      },
      {
       "output_type": "stream",
       "stream": "stdout",
       "text": [
        "\n",
        "130000000"
       ]
      },
      {
       "output_type": "stream",
       "stream": "stdout",
       "text": [
        "\n",
        "140000000"
       ]
      },
      {
       "output_type": "stream",
       "stream": "stdout",
       "text": [
        "\n",
        "150000000"
       ]
      },
      {
       "output_type": "stream",
       "stream": "stdout",
       "text": [
        "\n",
        "160000000"
       ]
      },
      {
       "output_type": "stream",
       "stream": "stdout",
       "text": [
        "\n",
        "170000000"
       ]
      },
      {
       "output_type": "stream",
       "stream": "stdout",
       "text": [
        "\n",
        "180000000"
       ]
      },
      {
       "output_type": "stream",
       "stream": "stdout",
       "text": [
        "\n",
        "190000000"
       ]
      },
      {
       "output_type": "stream",
       "stream": "stdout",
       "text": [
        "\n",
        "200000000"
       ]
      },
      {
       "output_type": "stream",
       "stream": "stdout",
       "text": [
        "\n",
        "210000000"
       ]
      },
      {
       "output_type": "stream",
       "stream": "stdout",
       "text": [
        "\n",
        "220000000"
       ]
      },
      {
       "output_type": "stream",
       "stream": "stdout",
       "text": [
        "\n",
        "230000000"
       ]
      },
      {
       "output_type": "stream",
       "stream": "stdout",
       "text": [
        "\n",
        "240000000"
       ]
      },
      {
       "output_type": "stream",
       "stream": "stdout",
       "text": [
        "\n"
       ]
      }
     ],
     "prompt_number": 81
    },
    {
     "cell_type": "code",
     "collapsed": false,
     "input": [
      "for key in sorted(reverseSites.iterkeys()):\n",
      "    print key, reverseSites[key]\n",
      "    \n",
      "    \n",
      "print \"The pattern that impacts the the frequency of a recognition site's occurence is 'CG'\""
     ],
     "language": "python",
     "metadata": {},
     "outputs": [
      {
       "output_type": "stream",
       "stream": "stdout",
       "text": [
        "AAATTT 192451\n",
        "AACGTT 11841\n",
        "AAGCTT 64394\n",
        "AATATT 170369\n",
        "ACATGT 79458\n",
        "ACCGGT 4216\n",
        "ACGCGT 1631\n",
        "ACTAGT 30370\n",
        "AGATCT 60179\n",
        "AGCGCT 8579\n",
        "AGGCCT 67067\n",
        "AGTACT 42704\n",
        "ATATAT 216353\n",
        "ATCGAT 6480\n",
        "ATGCAT 67397\n",
        "ATTAAT 108291\n",
        "CAATTG 40935\n",
        "CACGTG 20824\n",
        "CAGCTG 89432\n",
        "CATATG 66900\n",
        "CCATGG 59851\n",
        "CCCGGG 31941\n",
        "CCGCGG 5530\n",
        "CCTAGG 48979\n",
        "CGATCG 983\n",
        "CGCGCG 4225\n",
        "CGGCCG 7721\n",
        "CGTACG 840\n",
        "CTATAG 39287\n",
        "CTCGAG 9957\n",
        "CTGCAG 105663\n",
        "CTTAAG 50087\n",
        "GAATTC 60248\n",
        "GACGTC 5317\n",
        "GAGCTC 50049\n",
        "GATATC 32152\n",
        "GCATGC 44129\n",
        "GCCGGC 10538\n",
        "GCGCGC 6238\n",
        "GCTAGC 22346\n",
        "GGATCC 30113\n",
        "GGCGCC 19486\n",
        "GGGCCC 40294\n",
        "GGTACC 22705\n",
        "GTATAC 31467\n",
        "GTCGAC 2342\n",
        "GTGCAC 38168\n",
        "GTTAAC 29507\n",
        "TAATTA 102750\n",
        "TACGTA 9353\n",
        "TAGCTA 46838\n",
        "TATATA 197057\n",
        "TCATGA 74262\n",
        "TCCGGA 7704\n",
        "TCGCGA 1127\n",
        "TCTAGA 61946\n",
        "TGATCA 56893\n",
        "TGCGCA 7005\n",
        "TGGCCA 107911\n",
        "TGTACA 61405\n",
        "TTATAA 120196\n",
        "TTCGAA 8091\n",
        "TTGCAA 68694\n",
        "TTTAAA 252188\n",
        "The pattern that impacts the the frequency of a recognition site's occurence is 'CG'\n"
       ]
      }
     ],
     "prompt_number": 82
    },
    {
     "cell_type": "markdown",
     "metadata": {},
     "source": [
      "<b> Problem 3 </b>"
     ]
    },
    {
     "cell_type": "code",
     "collapsed": false,
     "input": [
      "pattern = \"CGTACG\"\n",
      "startIndex = 0\n",
      "cuts = []\n",
      "\n",
      "while startIndex >= 0:\n",
      "    startIndex = seq.find(pattern,startIndex)\n",
      "    if(startIndex >= 0):\n",
      "        cuts.append(startIndex)\n",
      "        startIndex += 6"
     ],
     "language": "python",
     "metadata": {},
     "outputs": [],
     "prompt_number": 83
    },
    {
     "cell_type": "code",
     "collapsed": false,
     "input": [
      "print len(cuts) #array of indexes of every cut (recognition site)"
     ],
     "language": "python",
     "metadata": {},
     "outputs": [
      {
       "output_type": "stream",
       "stream": "stdout",
       "text": [
        "839\n"
       ]
      }
     ],
     "prompt_number": 84
    },
    {
     "cell_type": "code",
     "collapsed": false,
     "input": [
      "fragLens = []\n",
      "fragLens.append(cuts[0]+5)\n",
      "\n",
      "for i in xrange(1, len(cuts)-1):\n",
      "    length = (cuts[i]) - cuts[i-1]\n",
      "    fragLens.append(length)\n",
      "    \n",
      "fragLens.append(cuts[len(cuts)-1]-cuts[len(cuts)-2]-5)\n"
     ],
     "language": "python",
     "metadata": {},
     "outputs": [],
     "prompt_number": 85
    },
    {
     "cell_type": "code",
     "collapsed": false,
     "input": [
      "import numpy as np\n",
      "import matplotlib.pyplot as plt"
     ],
     "language": "python",
     "metadata": {},
     "outputs": [],
     "prompt_number": 86
    },
    {
     "cell_type": "code",
     "collapsed": false,
     "input": [
      "plt.hist(fragLens, bins=200)\n",
      "plt.show()"
     ],
     "language": "python",
     "metadata": {},
     "outputs": [],
     "prompt_number": 89
    },
    {
     "cell_type": "markdown",
     "metadata": {},
     "source": [
      "<b> Problem 4 </b>"
     ]
    },
    {
     "cell_type": "code",
     "collapsed": false,
     "input": [
      "from copy import deepcopy\n",
      "\n",
      "class Node: \n",
      "    def __init__(self, staticA, staticB, aVals, bVals, abValsRem, parent, currSumA, currSumB, val, setA, setB):\n",
      "        self.parentNode = parent\n",
      "        self.permA = [item for item in staticA]\n",
      "        self.permB = [item for item in staticB]\n",
      "        self.possA = [item for item in aVals]\n",
      "        self.possB = [item for item in bVals]\n",
      "        self.cSumA = deepcopy(currSumA)\n",
      "        self.cSumB = deepcopy(currSumB)\n",
      "        self.ab = [item for item in abValsRem]\n",
      "        if(val != 0):\n",
      "            if val in self.ab:\n",
      "                self.ab.remove(val)\n",
      "        self.val = deepcopy(val)\n",
      "        \n",
      "        self.usedA = [item for item in setA]\n",
      "        self.usedB = [item for item in setB]\n",
      "        \n",
      "    def percDown(self):\n",
      "        if(self.val == 0):\n",
      "            for num in self.ab:\n",
      "                Node(self.permA, self.permB, self.possA, self.possB, self.ab, self, self.cSumA + num, self.cSumB + num, num, self.usedA, self.usedB)\n",
      "                \n",
      "        currPossA = [item for item in self.possA]\n",
      "        currPossB = [item for item in self.possB]\n",
      "        \n",
      "        for a in currPossA:\n",
      "            print a\n",
      "            print self.cSumA\n",
      "            if(a < self.cSumA):\n",
      "                currPossA.remove(a)\n",
      "            if(a == self.cSumA):\n",
      "                self.usedA.append(a)\n",
      "                s = set(self.usedA)\n",
      "                currPossA = [x for x in self.permA if x not in s]\n",
      "                print currPossA\n",
      "                self.cSumA = 0\n",
      "                \n",
      "        for b in currPossB:\n",
      "            if(b < self.cSumB):\n",
      "                currPossB.remove(b)\n",
      "            if(b == self.cSumB):\n",
      "                self.usedB.append(b)\n",
      "                s = set(self.usedB)\n",
      "                currPossB = [x for x in self.permB if x not in s]\n",
      "                print currPossB\n",
      "                self.cSumB = 0\n",
      "                \n",
      "                \n",
      "        if(len(currPossA) > 1 and len(currPossB) > 1):\n",
      "            for num in self.ab:\n",
      "                Node(self.permA, self.permB, currPossA, currPossB, self.ab, self, self.cSumA + num, self.cSumB + num, num, self.usedA, self.usedB)\n",
      "    \n",
      "        \n",
      "        print self.usedA, \"\\n\", self.usedB\n",
      "    "
     ],
     "language": "python",
     "metadata": {},
     "outputs": [],
     "prompt_number": 120
    }
   ],
   "metadata": {}
  }
 ]
}