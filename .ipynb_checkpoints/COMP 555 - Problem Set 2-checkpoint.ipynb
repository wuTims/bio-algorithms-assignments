{
 "metadata": {
  "name": "",
  "signature": "sha256:2338098a0ad5ecd6105f63d1fccc217b8ae2d8d192ce18400b0e3042f62edcd1"
 },
 "nbformat": 3,
 "nbformat_minor": 0,
 "worksheets": [
  {
   "cells": [
    {
     "cell_type": "markdown",
     "metadata": {},
     "source": [
      "<h1>Tim Wu ----- userid: tlwu </h1>"
     ]
    },
    {
     "cell_type": "markdown",
     "metadata": {},
     "source": [
      "<h2>Problem Set 2 </h2>"
     ]
    },
    {
     "cell_type": "code",
     "collapsed": false,
     "input": [
      "cd comp555"
     ],
     "language": "python",
     "metadata": {},
     "outputs": [
      {
       "output_type": "stream",
       "stream": "stdout",
       "text": [
        "C:\\Users\\tlwu\\comp555\n"
       ]
      }
     ],
     "prompt_number": 12
    },
    {
     "cell_type": "code",
     "collapsed": false,
     "input": [
      "hGene = open('humanGene.seq', 'rb').read()\n",
      "mGene = open('mouseGene.seq', 'rb').read()\n",
      "fGene = open('zfishGene.seq', 'rb').read()\n",
      "yGene = open('yeastGene.seq', 'rb').read()"
     ],
     "language": "python",
     "metadata": {},
     "outputs": [],
     "prompt_number": 34
    },
    {
     "cell_type": "heading",
     "level": 1,
     "metadata": {},
     "source": [
      "Problem 1"
     ]
    },
    {
     "cell_type": "code",
     "collapsed": false,
     "input": [
      "from numpy import *\n",
      "import sys\n",
      "\n",
      "sys.setrecursionlimit(200000)\n",
      "\n",
      "def UniformAlign(v, w, match, mismatch, gap):\n",
      "    s = zeros((len(v)+1,len(w)+1), dtype=int32)\n",
      "    b = zeros((len(v)+1,len(w)+1), dtype=int32)\n",
      "    for i in xrange(1,len(v)+1):\n",
      "        s[i,0] = s[i-1,0] + gap\n",
      "        b[i,0] = 2\n",
      "    for i in xrange(1,len(v)+1):\n",
      "        for j in xrange(1,len(w)+1):\n",
      "            diag = s[i-1,j-1] + (match if (v[i-1] == w[j-1]) else mismatch)\n",
      "            vskip = s[i-1,j] + gap\n",
      "            wskip = s[i,j-1] + gap\n",
      "            s[i,j] = max(vskip, wskip, diag)\n",
      "            if (s[i,j] == wskip):\n",
      "                b[i,j] = 1\n",
      "            elif (s[i,j] == vskip):\n",
      "                b[i,j] = 2\n",
      "            else:\n",
      "                b[i,j] = 3\n",
      "    return s,b\n",
      "\n",
      "def alignV(b,v,i,j,local=False):\n",
      "    if(b[i,j] == 0) and local:\n",
      "        return j\n",
      "    elif (i == 0):\n",
      "        if(j == 0):\n",
      "            return ''\n",
      "        else:\n",
      "            return alignV(b,v,i,j-1,local)\n",
      "    elif (b[i,j] == 3):\n",
      "        return alignV(b,v,i-1,j-1,local)\n",
      "    elif (b[i,j] == 2):\n",
      "        return alignV(b,v,i-1,j,local)\n",
      "    elif (b[i,j] == 1):\n",
      "        return alignV(b,v,i,j-1,local) \n"
     ],
     "language": "python",
     "metadata": {},
     "outputs": [],
     "prompt_number": 35
    },
    {
     "cell_type": "code",
     "collapsed": false,
     "input": [
      "v = hGene \n",
      "w = fGene\n",
      "s,b = UniformAlign(v,w, 1, 0, -1)\n",
      "k = argmax(s[len(v),:])\n",
      "\n",
      "begin = alignV(b,v,len(v),k,True)\n",
      "print \"Start Index: \", begin\n",
      "print \"End Index: \", k"
     ],
     "language": "python",
     "metadata": {},
     "outputs": [
      {
       "output_type": "stream",
       "stream": "stdout",
       "text": [
        "Start Index:  317\n",
        "End Index:  3038\n"
       ]
      }
     ],
     "prompt_number": 36
    },
    {
     "cell_type": "heading",
     "level": 1,
     "metadata": {},
     "source": [
      "Problem 2"
     ]
    },
    {
     "cell_type": "code",
     "collapsed": false,
     "input": [
      "bestsofar = 0\n",
      "answer = []\n",
      "for i in xrange(len(hGene)):\n",
      "    for j in xrange(len(mGene)):\n",
      "        if mGene[j:j+bestsofar+1] != hGene[i:i+bestsofar+1]:\n",
      "            continue\n",
      "        for k in xrange(len(fGene)):\n",
      "            if fGene[k:k+bestsofar+1] != hGene[i:i+bestsofar+1]:\n",
      "                continue\n",
      "            for l in xrange(len(yGene)):\n",
      "                if yGene[l:l+bestsofar+1] != hGene[i:i+bestsofar+1]:\n",
      "                    continue\n",
      "                maxLen = min(len(hGene)-i, len(mGene)-j, len(fGene)-k, len(yGene)-1)\n",
      "                for m in xrange(bestsofar+1, maxLen):\n",
      "                    if hGene[i+m] != mGene[j+m]:\n",
      "                        break\n",
      "                    if hGene[i+m] != fGene[k+m]:\n",
      "                        break\n",
      "                    if hGene[i+m] != yGene[l+m]:\n",
      "                        break\n",
      "                if (m > bestsofar):\n",
      "                    bestsofar = m\n",
      "                    answer = [i,j,k,l]\n",
      "                    \n",
      "print \"Start Indexes: \", answer\n",
      "print \"Length: \", bestsofar"
     ],
     "language": "python",
     "metadata": {},
     "outputs": [
      {
       "output_type": "stream",
       "stream": "stdout",
       "text": [
        "Start Indexes:  [168, 165, 659, 1493]\n",
        "Length:  9\n"
       ]
      }
     ],
     "prompt_number": 37
    },
    {
     "cell_type": "code",
     "collapsed": false,
     "input": [
      "for length in xrange(2,len(hGene)):\n",
      "    for start in xrange(0, len(mGene) - length):\n",
      "        substring = hGene[start:start+length]\n",
      "        if mGene.find(substring) >= 0 and fGene.find(substring) >= 0 and yGene.find(substring) >= 0:\n",
      "            bestsofar = length\n",
      "            answer = [start, mGene.find(substring), fGene.find(substring), yGene.find(substring)]\n",
      "            break\n",
      "    else:\n",
      "        print \"Stopping with length = \", length\n",
      "        break\n",
      "\n",
      "        \n",
      "print \"Start Indexs: \", answer\n",
      "print \"Length: \", bestsofar\n",
      "\n"
     ],
     "language": "python",
     "metadata": {},
     "outputs": [
      {
       "output_type": "stream",
       "stream": "stdout",
       "text": [
        "Stopping with length =  10\n",
        "Start Indexs:  [168, 165, 659, 1493]\n",
        "Length:  9\n"
       ]
      }
     ],
     "prompt_number": 38
    },
    {
     "cell_type": "heading",
     "level": 1,
     "metadata": {},
     "source": [
      "Problem 3"
     ]
    },
    {
     "cell_type": "code",
     "collapsed": false,
     "input": [
      "def GlobalAlign(v, w, match, mismatch, gap):\n",
      "    s = zeros((len(v)+1,len(w)+1), dtype=int32)\n",
      "    b = zeros((len(v)+1,len(w)+1), dtype=int32)\n",
      "    for j in xrange(1,len(w)+1):\n",
      "        s[0,j] = s[0,j-1] + gap\n",
      "        b[0,j] = 1\n",
      "    for i in xrange(1,len(v)+1):\n",
      "        s[i,0] = s[i-1,0] + gap\n",
      "        b[i,0] = 2\n",
      "    for i in xrange(1,len(v)+1):\n",
      "        for j in xrange(1,len(w)+1):\n",
      "            diag = s[i-1,j-1] + (match if (v[i-1] == w[j-1]) else mismatch)\n",
      "            vskip = s[i-1,j] + gap\n",
      "            wskip = s[i,j-1] + gap\n",
      "            s[i,j] = max(vskip, wskip, diag)\n",
      "            if (s[i,j] == wskip):\n",
      "                b[i,j] = 1\n",
      "            elif (s[i,j] == vskip):\n",
      "                b[i,j] = 2\n",
      "            else:\n",
      "                b[i,j] = 3\n",
      "    return s,b"
     ],
     "language": "python",
     "metadata": {},
     "outputs": [],
     "prompt_number": 39
    },
    {
     "cell_type": "code",
     "collapsed": false,
     "input": [
      "#Normalize fGene\n",
      "fGeneNorm = fGene[begin:k]\n",
      "\n",
      "s,b = GlobalAlign(hGene,mGene,1,0,-1)\n",
      "h_m = s[len(hGene), len(mGene)]\n",
      "\n",
      "s,b = GlobalAlign(hGene,yGene,1,0,-1)\n",
      "h_y= s[len(hGene), len(yGene)]\n",
      "\n",
      "s,b = GlobalAlign(hGene,fGeneNorm,1,0,-1)\n",
      "h_f = s[len(hGene), len(fGeneNorm)]\n",
      "\n",
      "s,b = GlobalAlign(mGene,yGene,1,0,-1)\n",
      "m_y = s[len(mGene), len(yGene)]\n",
      "\n",
      "s,b = GlobalAlign(mGene,fGeneNorm,1,0,-1)\n",
      "m_f = s[len(mGene), len(fGeneNorm)]\n",
      "\n",
      "s,b = GlobalAlign(yGene,fGeneNorm,1,0,-1)\n",
      "y_f = s[len(yGene), len(fGeneNorm)]\n",
      "\n"
     ],
     "language": "python",
     "metadata": {},
     "outputs": [],
     "prompt_number": 40
    },
    {
     "cell_type": "code",
     "collapsed": false,
     "input": [
      "from pandas import DataFrame\n",
      "\n",
      "categories = ['Human', 'Mouse', 'Fish', 'Yeast']\n",
      "comparisons = [[len(hGene), h_m, h_f, h_y], [h_m, len(mGene), m_f, m_y], [h_f, m_f, len(fGeneNorm), y_f], [h_y, m_y, y_f, len(yGene)] ] \n",
      "df = DataFrame(comparisons, index=categories, columns=categories) \n",
      "print df"
     ],
     "language": "python",
     "metadata": {},
     "outputs": [
      {
       "output_type": "stream",
       "stream": "stdout",
       "text": [
        "       Human  Mouse  Fish  Yeast\n",
        "Human   2727   2203  1612    320\n",
        "Mouse   2203   2727  1623    321\n",
        "Fish    1612   1623  2997     97\n",
        "Yeast    320    321    97   1734\n"
       ]
      }
     ],
     "prompt_number": 41
    },
    {
     "cell_type": "code",
     "collapsed": false,
     "input": [],
     "language": "python",
     "metadata": {},
     "outputs": [],
     "prompt_number": 140
    },
    {
     "cell_type": "code",
     "collapsed": false,
     "input": [],
     "language": "python",
     "metadata": {},
     "outputs": []
    }
   ],
   "metadata": {}
  }
 ]
}