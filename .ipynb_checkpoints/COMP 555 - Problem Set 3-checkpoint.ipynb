{
 "metadata": {
  "name": "",
  "signature": "sha256:3e6acbebd5be25a5988c1bf8fc181d2d240fa2c488c75bcd9f060e4c73aa75b6"
 },
 "nbformat": 3,
 "nbformat_minor": 0,
 "worksheets": [
  {
   "cells": [
    {
     "cell_type": "code",
     "collapsed": false,
     "input": [
      "cd comp555"
     ],
     "language": "python",
     "metadata": {},
     "outputs": [
      {
       "output_type": "stream",
       "stream": "stdout",
       "text": [
        "C:\\Users\\tlwu\\comp555\n"
       ]
      }
     ],
     "prompt_number": 7
    },
    {
     "cell_type": "code",
     "collapsed": false,
     "input": [
      "h = open('HumChr01.seq', 'rb')\n",
      "hChromo = h.read()\n",
      "chr1 = hChromo[10000:]"
     ],
     "language": "python",
     "metadata": {},
     "outputs": [],
     "prompt_number": 8
    },
    {
     "cell_type": "code",
     "collapsed": false,
     "input": [
      "import string\n",
      "import array\n",
      "import sys\n",
      "import numpy\n",
      "\n",
      "# The following classes are used to construct \n",
      "# and represent Suffix trees\n",
      "\n",
      "class Edge:\n",
      "    count = 0\n",
      "    def __init__(self, dstNode, first, last):\n",
      "        self.dstNode = dstNode\n",
      "        self.first = first\n",
      "        self.last = last\n",
      "        Edge.count += 1\n",
      "    def split(self, suffix, suffixTree):\n",
      "        # add new explicit node\n",
      "        newIndex = len(suffixTree.nodes)\n",
      "        suffixTree.nodes.append(0)\n",
      "        # add new suffix edge\n",
      "        newFirst = self.first + len(suffix)\n",
      "        suffixTree.edgeLookup[newIndex, suffixTree.string[newFirst]] = Edge(self.dstNode, newFirst, self.last)\n",
      "        # shorten this edge\n",
      "        self.last = newFirst - 1\n",
      "        self.dstNode = newIndex\n",
      "        return newIndex\n",
      "    def isLeafEdge(self, suffixTree):\n",
      "        return (self.last == suffixTree.lastIndex)\n",
      "    def __len__(self):\n",
      "        return self.last - self.first + 1\n",
      "    def __repr__(self):\n",
      "        return \"Edge(%d, %d, %d)\" % (self.dstNode, self.first, self.last)\n",
      "\n",
      "class Suffix:\n",
      "    def __init__(self, srcNode, first, last):\n",
      "        self.srcNode = srcNode\n",
      "        self.first = first\n",
      "        self.last = last\n",
      "    def is_explicit(self):\n",
      "        return self.first > self.last\n",
      "    def is_implicit(self):\n",
      "        return self.first <= self.last\n",
      "    def canonicalize(self, suffixTree):\n",
      "        if self.is_implicit():\n",
      "            edge = suffixTree.edgeLookup[self.srcNode, suffixTree.string[self.first]]\n",
      "            if (len(edge) <= len(self)):\n",
      "                self.first += len(edge)\n",
      "                self.srcNode = edge.dstNode\n",
      "                self.canonicalize(suffixTree)\n",
      "    def __len__(self):\n",
      "        return self.last - self.first + 1\n",
      "    def __repr__(self):\n",
      "        return \"Suffix(%d, %d, %d)\" % (self.srcNode, self.first, self.last)\n",
      "\n",
      "class SuffixTree:\n",
      "    def __init__(self, string):\n",
      "        self.string = string            # save a pointer to the string\n",
      "        self.alphabet = set()           # alphabet of string\n",
      "        self.nodes = array.array('l')   # index of ith node's parent\n",
      "        self.nodes.append(0)            # add root node\n",
      "        self.edgeLookup = {}            # adjacency list indexed by (srcNode, char)\n",
      "        self.lastIndex = len(string) - 1\n",
      "        activePoint = Suffix(0, 0, -1)\n",
      "        for i in xrange(len(string)):\n",
      "            self.alphabet.add(string[i])\n",
      "            self.addPrefix(i, activePoint)\n",
      "    def addPrefix(self, last, activePoint):\n",
      "        LastParentNode = -1\n",
      "        while True:\n",
      "            ParentNode = activePoint.srcNode\n",
      "            if activePoint.is_explicit():\n",
      "                if (activePoint.srcNode, self.string[last]) in self.edgeLookup:\n",
      "                    break\n",
      "            else:               #potentially split an implicit node\n",
      "                edge = self.edgeLookup[activePoint.srcNode, self.string[activePoint.first]]\n",
      "                if (self.string[edge.first + len(activePoint)] == self.string[last]):\n",
      "                    break\n",
      "                else:\n",
      "                    ParentNode = edge.split(activePoint, self)\n",
      "            self.nodes.append(-1)\n",
      "            self.edgeLookup[ParentNode, self.string[last]] = Edge(len(self.nodes)-1, last, self.lastIndex)\n",
      "            # add suffix link\n",
      "            if (LastParentNode > 0):\n",
      "                self.nodes[LastParentNode] = ParentNode\n",
      "            LastParentNode = ParentNode\n",
      "            if (activePoint.srcNode == 0):\n",
      "                activePoint.first += 1\n",
      "            else:\n",
      "                activePoint.srcNode = self.nodes[activePoint.srcNode]\n",
      "            activePoint.canonicalize(self)\n",
      "        if (LastParentNode > 0):\n",
      "            self.nodes[LastParentNode] = ParentNode\n",
      "        activePoint.last += 1\n",
      "        activePoint.canonicalize(self)\n",
      "    def leafIndices(self, nodeIndex=0, lenSoFar=0):\n",
      "        indexList = []\n",
      "        if (self.nodes[nodeIndex] < 0):\n",
      "            indexList.append(self.lastIndex + 1 - lenSoFar)\n",
      "        else:\n",
      "            for char in self.alphabet:\n",
      "                try:\n",
      "                    edge = self.edgeLookup[nodeIndex, char]\n",
      "                    if edge.isLeafEdge(self):\n",
      "                        indexList.append(self.lastIndex + 1 - len(edge) - lenSoFar)\n",
      "                    else:\n",
      "                        indexList += self.leafIndices(edge.dstNode, lenSoFar + len(edge))\n",
      "                except KeyError:\n",
      "                    continue\n",
      "        return indexList\n",
      "    def distinct(self, nodeIndex=0, lenSoFar=0):\n",
      "        distinctList = []\n",
      "        # examine children of node\n",
      "        for char in self.alphabet:\n",
      "            try:\n",
      "                edge = self.edgeLookup[nodeIndex, char]\n",
      "                if edge.isLeafEdge(self):\n",
      "                    distinctList.append((edge.first-lenSoFar, lenSoFar+1))\n",
      "                else:\n",
      "                    distinctList += self.distinct(edge.dstNode, lenSoFar + len(edge))\n",
      "            except:\n",
      "                continue\n",
      "        return distinctList\n",
      "    def thread(self, target):\n",
      "        nodeIndex = 0           # start from root\n",
      "        i = 0                   # characters threaded so far\n",
      "        while (i < len(target)):\n",
      "            try:\n",
      "                edge = self.edgeLookup[nodeIndex, target[i]]\n",
      "                prefix = self.string[edge.first:edge.last+1]\n",
      "                if (target[i:].startswith(prefix) or prefix.startswith(target[i:])):\n",
      "                    i += len(prefix)\n",
      "                else:\n",
      "                    return []\n",
      "                nodeIndex = edge.dstNode\n",
      "            except KeyError:\n",
      "                return []\n",
      "        return self.leafIndices(nodeIndex, i)\n",
      "    def printTree(self, nodeIndex=0, prefixLength=0, prefix=\"\"):\n",
      "        branches = list()\n",
      "        for c in self.alphabet:\n",
      "            try:\n",
      "                edge = self.edgeLookup[nodeIndex, c]\n",
      "                extent = prefix + \"(%d)-%s-\" % (nodeIndex, self.string[edge.first:edge.last+1])\n",
      "                subtree = self.printTree(edge.dstNode, prefixLength+len(edge), extent)\n",
      "                if (len(subtree) > 0):\n",
      "                    branches.append(subtree)\n",
      "                elif (edge.isLeafEdge(self)):\n",
      "                    print extent + \"(%d)[%d]\" % (edge.dstNode, edge.first-prefixLength)\n",
      "            except KeyError:\n",
      "                pass\n",
      "        return branches"
     ],
     "language": "python",
     "metadata": {},
     "outputs": [],
     "prompt_number": 16
    },
    {
     "cell_type": "code",
     "collapsed": false,
     "input": [
      "import time\n",
      "\n",
      "N=100\n",
      "treeTime = 0.0\n",
      "while N<=100000000 and treeTime<100.0:\n",
      "    print \"%10d, \" %N,\n",
      "    text = chr1[10000:10000+N]\n",
      "    start = time.clock()\n",
      "    try:\n",
      "        sTree = SuffixTree(text)\n",
      "    except RuntimeError:\n",
      "        print \"Crashed\"\n",
      "        break\n",
      "    treeTime = time.clock()-start\n",
      "    print \"%8d, %6.3f secs\" % (len(sTree.nodes),treeTime),\n",
      "    start = time.clock()\n",
      "    catsfound = sTree.thread(\"CAT\")\n",
      "    findTime = time.clock() - start\n",
      "    print \"%8d, %6.3f secs\" % (len(catsfound),findTime)\n",
      "    N*=10"
     ],
     "language": "python",
     "metadata": {},
     "outputs": [
      {
       "output_type": "stream",
       "stream": "stdout",
       "text": [
        "        100,       158,  0.003 secs        0,  0.000 secs\n",
        "      1000,      1633,  0.024 secs       13,  0.000 secs\n",
        "     10000,  "
       ]
      },
      {
       "output_type": "stream",
       "stream": "stdout",
       "text": [
        "   16391,  0.254 secs      144,  0.001 secs\n",
        "    100000,  "
       ]
      },
      {
       "output_type": "stream",
       "stream": "stdout",
       "text": [
        "  165256,  2.402 secs     1927,  0.023 secs\n",
        "   1000000,  "
       ]
      },
      {
       "output_type": "stream",
       "stream": "stdout",
       "text": [
        "Crashed\n"
       ]
      }
     ],
     "prompt_number": 41
    },
    {
     "cell_type": "code",
     "collapsed": false,
     "input": [
      "N = 100\n",
      "arrayTime = 0.0\n",
      "\n",
      "while (N <= 1000000000) and (arrayTime <100.0):\n",
      "    print\"%10d, \" % N,\n",
      "    text = chr1[10000:10000+N]\n",
      "    start = time.clock()\n",
      "    sArray = argsort(text)\n",
      "    arrayTime = time.clock() - start\n",
      "    print \"%8d, %6.3f secs\" % (len(sArray), arrayTime),\n",
      "    start = time.clock()\n",
      "    lo = findFirst(\"CAT\", text, sARray)\n",
      "    hi = findLast(\"CAT\", text, sArray)\n",
      "    findTime = time.clock() - start\n",
      "    print \"%8d, %6.3f secs\" % (hi-lo, findTime)\n",
      "    N *= 10"
     ],
     "language": "python",
     "metadata": {},
     "outputs": [
      {
       "output_type": "stream",
       "stream": "stdout",
       "text": [
        "        100, "
       ]
      },
      {
       "ename": "TypeError",
       "evalue": "object of type 'numpy.int64' has no len()",
       "output_type": "pyerr",
       "traceback": [
        "\u001b[1;31m---------------------------------------------------------------------------\u001b[0m\n\u001b[1;31mTypeError\u001b[0m                                 Traceback (most recent call last)",
        "\u001b[1;32m<ipython-input-44-64c0fe283b7b>\u001b[0m in \u001b[0;36m<module>\u001b[1;34m()\u001b[0m\n\u001b[0;32m      8\u001b[0m     \u001b[0msArray\u001b[0m \u001b[1;33m=\u001b[0m \u001b[0mnumpy\u001b[0m\u001b[1;33m.\u001b[0m\u001b[0margsort\u001b[0m\u001b[1;33m(\u001b[0m\u001b[0mtext\u001b[0m\u001b[1;33m)\u001b[0m\u001b[1;33m\u001b[0m\u001b[0m\n\u001b[0;32m      9\u001b[0m     \u001b[0marrayTime\u001b[0m \u001b[1;33m=\u001b[0m \u001b[0mtime\u001b[0m\u001b[1;33m.\u001b[0m\u001b[0mclock\u001b[0m\u001b[1;33m(\u001b[0m\u001b[1;33m)\u001b[0m \u001b[1;33m-\u001b[0m \u001b[0mstart\u001b[0m\u001b[1;33m\u001b[0m\u001b[0m\n\u001b[1;32m---> 10\u001b[1;33m     \u001b[1;32mprint\u001b[0m \u001b[1;34m\"%8d, %6.3f secs\"\u001b[0m \u001b[1;33m%\u001b[0m \u001b[1;33m(\u001b[0m\u001b[0mlen\u001b[0m\u001b[1;33m(\u001b[0m\u001b[0msArray\u001b[0m\u001b[1;33m)\u001b[0m\u001b[1;33m,\u001b[0m \u001b[0marrayTime\u001b[0m\u001b[1;33m)\u001b[0m\u001b[1;33m,\u001b[0m\u001b[1;33m\u001b[0m\u001b[0m\n\u001b[0m\u001b[0;32m     11\u001b[0m     \u001b[0mstart\u001b[0m \u001b[1;33m=\u001b[0m \u001b[0mtime\u001b[0m\u001b[1;33m.\u001b[0m\u001b[0mclock\u001b[0m\u001b[1;33m(\u001b[0m\u001b[1;33m)\u001b[0m\u001b[1;33m\u001b[0m\u001b[0m\n\u001b[0;32m     12\u001b[0m     \u001b[0mlo\u001b[0m \u001b[1;33m=\u001b[0m \u001b[0mfindFirst\u001b[0m\u001b[1;33m(\u001b[0m\u001b[1;34m\"CAT\"\u001b[0m\u001b[1;33m,\u001b[0m \u001b[0mtext\u001b[0m\u001b[1;33m,\u001b[0m \u001b[0msARray\u001b[0m\u001b[1;33m)\u001b[0m\u001b[1;33m\u001b[0m\u001b[0m\n",
        "\u001b[1;31mTypeError\u001b[0m: object of type 'numpy.int64' has no len()"
       ]
      }
     ],
     "prompt_number": 44
    },
    {
     "cell_type": "code",
     "collapsed": false,
     "input": [
      "class SuperTree(SuffixTree):\n",
      "    def getSuffixArray(self, nodeIndex=0, prefixLength=0,prefix=''):\n",
      "        if (nodeIndex == 0):\n",
      "            self.suffixArray = []\n",
      "        for c in sorted(self.alphabet):\n",
      "            try:\n",
      "                edge = self.edgeLookup[nodeIndex, c]\n",
      "                if (edge.isLeafEdge(self)):\n",
      "                    self.suffixArray.append(edge.first-prefixLength)\n",
      "                else:\n",
      "                    self.getSuffixArray(edge.dstNode, prefixLength+len(edge))\n",
      "            except KeyError:\n",
      "                pass\n",
      "        return self.suffixArray"
     ],
     "language": "python",
     "metadata": {},
     "outputs": [],
     "prompt_number": 31
    },
    {
     "cell_type": "code",
     "collapsed": false,
     "input": [
      "test = \"missmississippi$\"\n",
      "suffixTree = SuperTree(test)\n",
      "print len(suffixTree.nodes)\n",
      "print suffixTree.printTree()\n",
      "print\n",
      "print suffixTree.getSuffixArray()\n",
      "print argsort(test)"
     ],
     "language": "python",
     "metadata": {},
     "outputs": [
      {
       "output_type": "stream",
       "stream": "stdout",
       "text": [
        "26\n",
        "(0)-i-(19)-ppi$-(20)[11]\n",
        "(0)-i-(19)-ss-(8)-i-(13)-ppi$-(14)[8]\n",
        "(0)-i-(19)-ss-(8)-i-(13)-ssippi$-(9)[5]\n",
        "(0)-i-(19)-ss-(8)-mississippi$-(2)[1]\n",
        "(0)-i-(19)-$-(24)[14]\n",
        "(0)-p-(22)-i$-(23)[13]\n",
        "(0)-p-(22)-pi$-(21)[12]\n",
        "(0)-s-(4)-i-(17)-ppi$-(18)[10]\n",
        "(0)-s-(4)-i-(17)-ssippi$-(12)[7]\n",
        "(0)-s-(4)-s-(10)-i-(15)-ppi$-(16)[9]\n",
        "(0)-s-(4)-s-(10)-i-(15)-ssippi$-(11)[6]\n",
        "(0)-s-(4)-s-(10)-mississippi$-(3)[2]\n",
        "(0)-s-(4)-mississippi$-(5)[3]\n",
        "(0)-miss-(6)-issippi$-(7)[4]\n",
        "(0)-miss-(6)-mississippi$-(1)[0]\n",
        "(0)-$-(25)[15]\n",
        "[]\n",
        "\n",
        "[15, 14, 11, 8, 5, 1, 4, 0, 13, 12, 10, 7, 3, 9, 6, 2]\n"
       ]
      },
      {
       "ename": "NameError",
       "evalue": "name 'argsort' is not defined",
       "output_type": "pyerr",
       "traceback": [
        "\u001b[1;31m---------------------------------------------------------------------------\u001b[0m\n\u001b[1;31mNameError\u001b[0m                                 Traceback (most recent call last)",
        "\u001b[1;32m<ipython-input-39-1e2a06db0619>\u001b[0m in \u001b[0;36m<module>\u001b[1;34m()\u001b[0m\n\u001b[0;32m      5\u001b[0m \u001b[1;32mprint\u001b[0m\u001b[1;33m\u001b[0m\u001b[0m\n\u001b[0;32m      6\u001b[0m \u001b[1;32mprint\u001b[0m \u001b[0msuffixTree\u001b[0m\u001b[1;33m.\u001b[0m\u001b[0mgetSuffixArray\u001b[0m\u001b[1;33m(\u001b[0m\u001b[1;33m)\u001b[0m\u001b[1;33m\u001b[0m\u001b[0m\n\u001b[1;32m----> 7\u001b[1;33m \u001b[1;32mprint\u001b[0m \u001b[0margsort\u001b[0m\u001b[1;33m(\u001b[0m\u001b[0mtest\u001b[0m\u001b[1;33m)\u001b[0m\u001b[1;33m\u001b[0m\u001b[0m\n\u001b[0m",
        "\u001b[1;31mNameError\u001b[0m: name 'argsort' is not defined"
       ]
      }
     ],
     "prompt_number": 39
    },
    {
     "cell_type": "code",
     "collapsed": false,
     "input": [
      "N = 10000\n",
      "arrayTime = 0.0\n",
      "while (arrayTime < 1.0):\n",
      "    print\"%10d, \" % N,\n",
      "    text = chr1[10000:10000+N]\n",
      "    start = time.clock()\n",
      "    sArray = argsort(text)\n",
      "    arrayTime = time.clock() - start\n",
      "    print \"%6.3f secs\" % (arrayTime),\n",
      "    start = time.clock()\n",
      "    sTree = SuperTree(text)\n",
      "    tArray = sTree.getSuffixArray()\n",
      "    treeTime = time.clock() - start\n",
      "    print \"%6.3f secs\" % (treeTime),\n",
      "    print sArray[:3], tArray[:3]\n",
      "    N += 1000"
     ],
     "language": "python",
     "metadata": {},
     "outputs": [
      {
       "output_type": "stream",
       "stream": "stdout",
       "text": [
        "     10000, "
       ]
      },
      {
       "ename": "NameError",
       "evalue": "name 'time' is not defined",
       "output_type": "pyerr",
       "traceback": [
        "\u001b[1;31m---------------------------------------------------------------------------\u001b[0m\n\u001b[1;31mNameError\u001b[0m                                 Traceback (most recent call last)",
        "\u001b[1;32m<ipython-input-40-125b5e9daf69>\u001b[0m in \u001b[0;36m<module>\u001b[1;34m()\u001b[0m\n\u001b[0;32m      4\u001b[0m     \u001b[1;32mprint\u001b[0m\u001b[1;34m\"%10d, \"\u001b[0m \u001b[1;33m%\u001b[0m \u001b[0mN\u001b[0m\u001b[1;33m,\u001b[0m\u001b[1;33m\u001b[0m\u001b[0m\n\u001b[0;32m      5\u001b[0m     \u001b[0mtext\u001b[0m \u001b[1;33m=\u001b[0m \u001b[0mchr1\u001b[0m\u001b[1;33m[\u001b[0m\u001b[1;36m10000\u001b[0m\u001b[1;33m:\u001b[0m\u001b[1;36m10000\u001b[0m\u001b[1;33m+\u001b[0m\u001b[0mN\u001b[0m\u001b[1;33m]\u001b[0m\u001b[1;33m\u001b[0m\u001b[0m\n\u001b[1;32m----> 6\u001b[1;33m     \u001b[0mstart\u001b[0m \u001b[1;33m=\u001b[0m \u001b[0mtime\u001b[0m\u001b[1;33m.\u001b[0m\u001b[0mclock\u001b[0m\u001b[1;33m(\u001b[0m\u001b[1;33m)\u001b[0m\u001b[1;33m\u001b[0m\u001b[0m\n\u001b[0m\u001b[0;32m      7\u001b[0m     \u001b[0msArray\u001b[0m \u001b[1;33m=\u001b[0m \u001b[0margsort\u001b[0m\u001b[1;33m(\u001b[0m\u001b[0mtext\u001b[0m\u001b[1;33m)\u001b[0m\u001b[1;33m\u001b[0m\u001b[0m\n\u001b[0;32m      8\u001b[0m     \u001b[0marrayTime\u001b[0m \u001b[1;33m=\u001b[0m \u001b[0mtime\u001b[0m\u001b[1;33m.\u001b[0m\u001b[0mclock\u001b[0m\u001b[1;33m(\u001b[0m\u001b[1;33m)\u001b[0m \u001b[1;33m-\u001b[0m \u001b[0mstart\u001b[0m\u001b[1;33m\u001b[0m\u001b[0m\n",
        "\u001b[1;31mNameError\u001b[0m: name 'time' is not defined"
       ]
      }
     ],
     "prompt_number": 40
    },
    {
     "cell_type": "code",
     "collapsed": false,
     "input": [],
     "language": "python",
     "metadata": {},
     "outputs": []
    }
   ],
   "metadata": {}
  }
 ]
}